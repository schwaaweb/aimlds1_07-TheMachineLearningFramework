{
 "cells": [
  {
   "cell_type": "markdown",
   "metadata": {
    "colab_type": "text",
    "id": "view-in-github"
   },
   "source": [
    "[View in Colaboratory](https://colab.research.google.com/github/schwaaweb/aimlds1_07-TheMachineLearningFramework/blob/master/F07_SC--DJ--Machine_Learning_Framework_Sprint_Challenge.ipynb)"
   ]
  },
  {
   "cell_type": "markdown",
   "metadata": {
    "colab_type": "text",
    "id": "R7vsxp-BlrzW"
   },
   "source": [
    "# Machine Learning Framework Sprint Challenge\n",
    "\n",
    "This week you tackled a number of objectives related to training and testing multiple ML models. Some of those objectives include:\n",
    "\n",
    "### Model Tuning Objectives:\n",
    "\n",
    "* Use cross_validation library\n",
    "* Identify hyper parameters\n",
    "* Disambiguate parameters and hyper parameters\n",
    "* Use grid search to explore hyper parameters\n",
    "* Manually select test/train/validation\n",
    "* Compute AUC for a set of results\n",
    "\n",
    "### Supervised Learning Objectives:\n",
    "\n",
    "* Train SVM, Random Forest, Naive Bayers, and other models\n",
    "* Change hyper parameters and rerun\n",
    "* Save model parameterization\n",
    "* Join a Kaggle contest and submit results\n",
    "\n",
    "Measuring your ability to execute on individual tasks is becoming less important as we progress into this phase of the coursework. The importance of your ability to reason about and report on your work is growing.\n",
    "\n",
    "#### Assignment\n",
    "\n",
    "For this sprint challenge, write a Medium post about no fewer than 5 of the above objectives. Describe what makes those objectives interesting, how to perform them, and any gotchas you may have encountered during their development.\n",
    "\n",
    "Remember to follow the Medium posting guidelines, with code, images, citations, and so forth.\n",
    "\n",
    "#### Delivery\n",
    "\n",
    "Create a new file in your github repository: `machine-learning-framework.json` once you have posted your Medium article.\n",
    "\n",
    "_machine-learning-framework.json_\n",
    "\n",
    "\n"
   ]
  },
  {
   "cell_type": "code",
   "execution_count": null,
   "metadata": {
    "colab": {},
    "colab_type": "code",
    "id": "gxVZYMCVslHi"
   },
   "outputs": [],
   "source": [
    "{\n",
    "    \"url\": \"my-netlify-subdomain.netlify.com/machine-learning-framework.json\",\n",
    "    \"objectives\": [\"objective-1\", \"objective-2\", \"objective-3\", \"objective-4\", \"objective-5\"]\n",
    "    \"keywords\": [\"keyword-1\", \"keyword-2\", \"keyword-3\", \"keyword-4\", \"keyword-5\"]\n",
    "}"
   ]
  },
  {
   "cell_type": "markdown",
   "metadata": {
    "colab_type": "text",
    "id": "PNzUpWn9spZd"
   },
   "source": [
    "where `objective-1...5` are sentences similar to those listed above describing which objectives you have decided to report on. Make `keyword-1...5` be the keywords you added to your Medium post metadata that should match the objectives you are reporting on.\n",
    "\n",
    "You should endeavor to have written the outline/first draft of the Medium post by lunch-time today.\n",
    "\n",
    "The above file should be available in your netflify account by the end of the day."
   ]
  }
 ],
 "metadata": {
  "colab": {
   "name": "Machine Learning Framework Sprint Challenge.ipynb",
   "provenance": [],
   "version": "0.3.2"
  },
  "kernelspec": {
   "display_name": "Python 3",
   "language": "python",
   "name": "python3"
  },
  "language_info": {
   "codemirror_mode": {
    "name": "ipython",
    "version": 3
   },
   "file_extension": ".py",
   "mimetype": "text/x-python",
   "name": "python",
   "nbconvert_exporter": "python",
   "pygments_lexer": "ipython3",
   "version": "3.6.4"
  }
 },
 "nbformat": 4,
 "nbformat_minor": 2
}
