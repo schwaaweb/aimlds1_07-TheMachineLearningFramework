{
 "cells": [
  {
   "cell_type": "markdown",
   "metadata": {
    "colab_type": "text",
    "id": "view-in-github"
   },
   "source": [
    "[View in Colaboratory](https://colab.research.google.com/github/schwaaweb/aimlds1_07-TheMachineLearningFramework/blob/master/M07_CC--DJ--Model_Tuning_CC1.ipynb)"
   ]
  },
  {
   "cell_type": "markdown",
   "metadata": {
    "colab_type": "text",
    "id": "GktCVk6V0sa2"
   },
   "source": [
    "# Splitting data into Test/Train datasets\n",
    "\n",
    "\n",
    "In this code challenge we're going to use the Pima Indians Diabetes dataset to split our data into test/train datasets both manually and using a library."
   ]
  },
  {
   "cell_type": "code",
   "execution_count": 1,
   "metadata": {
    "colab": {
     "base_uri": "https://localhost:8080/",
     "height": 221
    },
    "colab_type": "code",
    "id": "dX1ImgKgtC0l",
    "outputId": "40a4cfd2-c213-4806-d31a-eaa98120c458"
   },
   "outputs": [
    {
     "name": "stdout",
     "output_type": "stream",
     "text": [
      "(768, 9)\n"
     ]
    },
    {
     "data": {
      "text/html": [
       "<div>\n",
       "<style scoped>\n",
       "    .dataframe tbody tr th:only-of-type {\n",
       "        vertical-align: middle;\n",
       "    }\n",
       "\n",
       "    .dataframe tbody tr th {\n",
       "        vertical-align: top;\n",
       "    }\n",
       "\n",
       "    .dataframe thead th {\n",
       "        text-align: right;\n",
       "    }\n",
       "</style>\n",
       "<table border=\"1\" class=\"dataframe\">\n",
       "  <thead>\n",
       "    <tr style=\"text-align: right;\">\n",
       "      <th></th>\n",
       "      <th>preg</th>\n",
       "      <th>plas</th>\n",
       "      <th>pres</th>\n",
       "      <th>skin</th>\n",
       "      <th>test</th>\n",
       "      <th>mass</th>\n",
       "      <th>pedi</th>\n",
       "      <th>age</th>\n",
       "      <th>class</th>\n",
       "    </tr>\n",
       "  </thead>\n",
       "  <tbody>\n",
       "    <tr>\n",
       "      <th>0</th>\n",
       "      <td>6</td>\n",
       "      <td>148</td>\n",
       "      <td>72</td>\n",
       "      <td>35</td>\n",
       "      <td>0</td>\n",
       "      <td>33.6</td>\n",
       "      <td>0.627</td>\n",
       "      <td>50</td>\n",
       "      <td>1</td>\n",
       "    </tr>\n",
       "    <tr>\n",
       "      <th>1</th>\n",
       "      <td>1</td>\n",
       "      <td>85</td>\n",
       "      <td>66</td>\n",
       "      <td>29</td>\n",
       "      <td>0</td>\n",
       "      <td>26.6</td>\n",
       "      <td>0.351</td>\n",
       "      <td>31</td>\n",
       "      <td>0</td>\n",
       "    </tr>\n",
       "    <tr>\n",
       "      <th>2</th>\n",
       "      <td>8</td>\n",
       "      <td>183</td>\n",
       "      <td>64</td>\n",
       "      <td>0</td>\n",
       "      <td>0</td>\n",
       "      <td>23.3</td>\n",
       "      <td>0.672</td>\n",
       "      <td>32</td>\n",
       "      <td>1</td>\n",
       "    </tr>\n",
       "    <tr>\n",
       "      <th>3</th>\n",
       "      <td>1</td>\n",
       "      <td>89</td>\n",
       "      <td>66</td>\n",
       "      <td>23</td>\n",
       "      <td>94</td>\n",
       "      <td>28.1</td>\n",
       "      <td>0.167</td>\n",
       "      <td>21</td>\n",
       "      <td>0</td>\n",
       "    </tr>\n",
       "    <tr>\n",
       "      <th>4</th>\n",
       "      <td>0</td>\n",
       "      <td>137</td>\n",
       "      <td>40</td>\n",
       "      <td>35</td>\n",
       "      <td>168</td>\n",
       "      <td>43.1</td>\n",
       "      <td>2.288</td>\n",
       "      <td>33</td>\n",
       "      <td>1</td>\n",
       "    </tr>\n",
       "  </tbody>\n",
       "</table>\n",
       "</div>"
      ],
      "text/plain": [
       "   preg  plas  pres  skin  test  mass   pedi  age  class\n",
       "0     6   148    72    35     0  33.6  0.627   50      1\n",
       "1     1    85    66    29     0  26.6  0.351   31      0\n",
       "2     8   183    64     0     0  23.3  0.672   32      1\n",
       "3     1    89    66    23    94  28.1  0.167   21      0\n",
       "4     0   137    40    35   168  43.1  2.288   33      1"
      ]
     },
     "execution_count": 1,
     "metadata": {},
     "output_type": "execute_result"
    }
   ],
   "source": [
    "# LAMBDA SCHOOL\n",
    "# \n",
    "# MACHINE LEARNING\n",
    "#\n",
    "# MIT LICENSE\n",
    "\n",
    "# Import Data and Libraries\n",
    "import pandas as pd\n",
    "import numpy as np\n",
    "from sklearn.model_selection import train_test_split\n",
    "\n",
    "url = \"https://raw.githubusercontent.com/jbrownlee/Datasets/master/pima-indians-diabetes.data.csv\"\n",
    "names = ['preg', 'plas', 'pres', 'skin', 'test', 'mass', 'pedi', 'age', 'class']\n",
    "df = pd.read_csv(url, names=names)\n",
    "print(df.shape)\n",
    "df.head()"
   ]
  },
  {
   "cell_type": "code",
   "execution_count": 3,
   "metadata": {},
   "outputs": [],
   "source": [
    "#!wget -c https://raw.githubusercontent.com/jbrownlee/Datasets/master/pima-indians-diabetes.data.csv"
   ]
  },
  {
   "cell_type": "markdown",
   "metadata": {
    "colab_type": "text",
    "id": "9wUwQMrZ4Xhi"
   },
   "source": [
    "\n",
    "## 1) Randomly a select 20% of your data to be in your \"test\" dataset and the other 80% to be in your \"train\" dataset. Do this without setting a random seed.\n"
   ]
  },
  {
   "cell_type": "code",
   "execution_count": 8,
   "metadata": {
    "colab": {},
    "colab_type": "code",
    "id": "bGOsRHPz5KVz"
   },
   "outputs": [],
   "source": [
    "df_train, df_test = train_test_split(df, test_size=0.2)"
   ]
  },
  {
   "cell_type": "markdown",
   "metadata": {
    "colab_type": "text",
    "id": "EQSvwvha6Ckm"
   },
   "source": [
    "## 2) After you have randomly divided the dataset, print the shape of both of your new test and train datasets and print the first five rows of each."
   ]
  },
  {
   "cell_type": "code",
   "execution_count": 12,
   "metadata": {
    "colab": {},
    "colab_type": "code",
    "id": "T5GmmxLB6GAi"
   },
   "outputs": [
    {
     "name": "stdout",
     "output_type": "stream",
     "text": [
      "(614, 9)\n",
      "     preg  plas  pres  skin  test  mass   pedi  age  class\n",
      "126     3   120    70    30   135  42.9  0.452   30      0\n",
      "639     1   100    74    12    46  19.5  0.149   28      0\n",
      "456     1   135    54     0     0  26.7  0.687   62      0\n",
      "31      3   158    76    36   245  31.6  0.851   28      1\n",
      "234     3    74    68    28    45  29.7  0.293   23      0\n"
     ]
    }
   ],
   "source": [
    "##### Print train dataset shape and first 5 rows. #####\n",
    "print(df_train.shape)\n",
    "print(df_test.head())"
   ]
  },
  {
   "cell_type": "code",
   "execution_count": 13,
   "metadata": {
    "colab": {},
    "colab_type": "code",
    "id": "mHcKKfpM6Ymw"
   },
   "outputs": [
    {
     "name": "stdout",
     "output_type": "stream",
     "text": [
      "(154, 9)\n",
      "     preg  plas  pres  skin  test  mass   pedi  age  class\n",
      "126     3   120    70    30   135  42.9  0.452   30      0\n",
      "639     1   100    74    12    46  19.5  0.149   28      0\n",
      "456     1   135    54     0     0  26.7  0.687   62      0\n",
      "31      3   158    76    36   245  31.6  0.851   28      1\n",
      "234     3    74    68    28    45  29.7  0.293   23      0\n"
     ]
    }
   ],
   "source": [
    "##### Print test dataset shape and first 5 rows. #####\n",
    "print(df_test.shape)\n",
    "print(df_test.head())"
   ]
  },
  {
   "cell_type": "markdown",
   "metadata": {
    "colab_type": "text",
    "id": "_GQKvlQz4PPl"
   },
   "source": [
    "## 3) Use sklearn's train_test_split function to split the data into test and training datasets. Set the random_state to 42"
   ]
  },
  {
   "cell_type": "code",
   "execution_count": 14,
   "metadata": {
    "colab": {},
    "colab_type": "code",
    "id": "MkvUiq1A8vIp"
   },
   "outputs": [],
   "source": [
    "df_trainr42, df_testr42 = train_test_split(df, test_size=0.2, random_state=42)"
   ]
  },
  {
   "cell_type": "markdown",
   "metadata": {
    "colab_type": "text",
    "id": "klLdQQOJ8_Er"
   },
   "source": [
    "## 4) Print the shape and first 5 rows of the new dataframes."
   ]
  },
  {
   "cell_type": "code",
   "execution_count": 19,
   "metadata": {
    "colab": {},
    "colab_type": "code",
    "id": "bAeb7eGd9KTB"
   },
   "outputs": [
    {
     "name": "stdout",
     "output_type": "stream",
     "text": [
      "(614, 9)\n",
      "     preg  plas  pres  skin  test  mass   pedi  age  class\n",
      "60      2    84     0     0     0   0.0  0.304   21      0\n",
      "618     9   112    82    24     0  28.2  1.282   50      1\n",
      "346     1   139    46    19    83  28.7  0.654   22      0\n",
      "294     0   161    50     0     0  21.9  0.254   65      0\n",
      "231     6   134    80    37   370  46.2  0.238   46      1\n"
     ]
    }
   ],
   "source": [
    "##### Print train dataset shape and first 5 rows. #####\n",
    "print(df_trainr42.shape)\n",
    "print(df_trainr42.head())"
   ]
  },
  {
   "cell_type": "code",
   "execution_count": 20,
   "metadata": {
    "colab": {},
    "colab_type": "code",
    "id": "LFgf01VQ9LbF"
   },
   "outputs": [
    {
     "name": "stdout",
     "output_type": "stream",
     "text": [
      "(154, 9)\n",
      "     preg  plas  pres  skin  test  mass   pedi  age  class\n",
      "668     6    98    58    33   190  34.0  0.430   43      0\n",
      "324     2   112    75    32     0  35.7  0.148   21      0\n",
      "624     2   108    64     0     0  30.8  0.158   21      0\n",
      "690     8   107    80     0     0  24.6  0.856   34      0\n",
      "473     7   136    90     0     0  29.9  0.210   50      0\n"
     ]
    }
   ],
   "source": [
    "##### Print test dataset shape and first 5 rows. #####\n",
    "print(df_testr42.shape)\n",
    "print(df_testr42.head())"
   ]
  },
  {
   "cell_type": "markdown",
   "metadata": {
    "colab_type": "text",
    "id": "5Cgx2fFs-eug"
   },
   "source": [
    "### Change the random state on your test_train_split to a different integer and run the code again. What happens to the shape of the dataset? What happens to the first five rows?\n",
    "\n",
    "\n",
    "---\n",
    "\n"
   ]
  },
  {
   "cell_type": "markdown",
   "metadata": {},
   "source": [
    "The shape of the dataset remains the same, but the order of the rows changes."
   ]
  },
  {
   "cell_type": "code",
   "execution_count": 21,
   "metadata": {},
   "outputs": [
    {
     "name": "stdout",
     "output_type": "stream",
     "text": [
      "(614, 9)\n",
      "     preg  plas  pres  skin  test  mass   pedi  age  class\n",
      "192     7   159    66     0     0  30.4  0.383   36      1\n",
      "445     0   180    78    63    14  59.4  2.420   25      1\n",
      "573     2    98    60    17   120  34.7  0.198   22      0\n",
      "233     4   122    68     0     0  35.0  0.394   29      0\n",
      "133     8    84    74    31     0  38.3  0.457   39      0\n",
      "(154, 9)\n",
      "     preg  plas  pres  skin  test  mass   pedi  age  class\n",
      "524     3   125    58     0     0  31.6  0.151   24      0\n",
      "275     2   100    70    52    57  40.5  0.677   25      0\n",
      "587     6   103    66     0     0  24.3  0.249   29      0\n",
      "356     1   125    50    40   167  33.3  0.962   28      1\n",
      "710     3   158    64    13   387  31.2  0.295   24      0\n"
     ]
    }
   ],
   "source": [
    "df_trainr13, df_testr13 = train_test_split(df, test_size=0.2, random_state=13)\n",
    "print(df_trainr13.shape)\n",
    "print(df_trainr13.head())\n",
    "print(df_testr13.shape)\n",
    "print(df_testr13.head())"
   ]
  },
  {
   "cell_type": "markdown",
   "metadata": {
    "colab_type": "text",
    "id": "0j7w3AqeBg70"
   },
   "source": [
    "## 5) Using the original dataframe, create two new dataframes titled \"X\" and \"Y\". \n",
    "\n",
    "The Y dataframe should be composed of only the \"class\" column (our dependent variable - or what we want to predict) and the X dataframe should be composed of all other columns. (Our independent variables, sometimes called features or predictors)\n",
    "\n",
    "Print their shape as well as the first 5 rows of these two dataframes.\n"
   ]
  },
  {
   "cell_type": "code",
   "execution_count": 29,
   "metadata": {
    "colab": {},
    "colab_type": "code",
    "id": "IA0x_zRTCYhE"
   },
   "outputs": [
    {
     "name": "stdout",
     "output_type": "stream",
     "text": [
      "(768, 1)\n"
     ]
    },
    {
     "data": {
      "text/html": [
       "<div>\n",
       "<style scoped>\n",
       "    .dataframe tbody tr th:only-of-type {\n",
       "        vertical-align: middle;\n",
       "    }\n",
       "\n",
       "    .dataframe tbody tr th {\n",
       "        vertical-align: top;\n",
       "    }\n",
       "\n",
       "    .dataframe thead th {\n",
       "        text-align: right;\n",
       "    }\n",
       "</style>\n",
       "<table border=\"1\" class=\"dataframe\">\n",
       "  <thead>\n",
       "    <tr style=\"text-align: right;\">\n",
       "      <th></th>\n",
       "      <th>class</th>\n",
       "    </tr>\n",
       "  </thead>\n",
       "  <tbody>\n",
       "    <tr>\n",
       "      <th>0</th>\n",
       "      <td>1</td>\n",
       "    </tr>\n",
       "    <tr>\n",
       "      <th>1</th>\n",
       "      <td>0</td>\n",
       "    </tr>\n",
       "    <tr>\n",
       "      <th>2</th>\n",
       "      <td>1</td>\n",
       "    </tr>\n",
       "    <tr>\n",
       "      <th>3</th>\n",
       "      <td>0</td>\n",
       "    </tr>\n",
       "    <tr>\n",
       "      <th>4</th>\n",
       "      <td>1</td>\n",
       "    </tr>\n",
       "  </tbody>\n",
       "</table>\n",
       "</div>"
      ],
      "text/plain": [
       "   class\n",
       "0      1\n",
       "1      0\n",
       "2      1\n",
       "3      0\n",
       "4      1"
      ]
     },
     "execution_count": 29,
     "metadata": {},
     "output_type": "execute_result"
    }
   ],
   "source": [
    "##### YOUR CODE HERE #####\n",
    "Y = df[['class']] # double square brackets\n",
    "print(Y.shape)\n",
    "Y.head()"
   ]
  },
  {
   "cell_type": "code",
   "execution_count": 31,
   "metadata": {
    "colab": {},
    "colab_type": "code",
    "id": "KxumB3JqEXqG"
   },
   "outputs": [
    {
     "name": "stdout",
     "output_type": "stream",
     "text": [
      "(768, 8)\n"
     ]
    },
    {
     "data": {
      "text/html": [
       "<div>\n",
       "<style scoped>\n",
       "    .dataframe tbody tr th:only-of-type {\n",
       "        vertical-align: middle;\n",
       "    }\n",
       "\n",
       "    .dataframe tbody tr th {\n",
       "        vertical-align: top;\n",
       "    }\n",
       "\n",
       "    .dataframe thead th {\n",
       "        text-align: right;\n",
       "    }\n",
       "</style>\n",
       "<table border=\"1\" class=\"dataframe\">\n",
       "  <thead>\n",
       "    <tr style=\"text-align: right;\">\n",
       "      <th></th>\n",
       "      <th>preg</th>\n",
       "      <th>plas</th>\n",
       "      <th>pres</th>\n",
       "      <th>skin</th>\n",
       "      <th>test</th>\n",
       "      <th>mass</th>\n",
       "      <th>pedi</th>\n",
       "      <th>age</th>\n",
       "    </tr>\n",
       "  </thead>\n",
       "  <tbody>\n",
       "    <tr>\n",
       "      <th>0</th>\n",
       "      <td>6</td>\n",
       "      <td>148</td>\n",
       "      <td>72</td>\n",
       "      <td>35</td>\n",
       "      <td>0</td>\n",
       "      <td>33.6</td>\n",
       "      <td>0.627</td>\n",
       "      <td>50</td>\n",
       "    </tr>\n",
       "    <tr>\n",
       "      <th>1</th>\n",
       "      <td>1</td>\n",
       "      <td>85</td>\n",
       "      <td>66</td>\n",
       "      <td>29</td>\n",
       "      <td>0</td>\n",
       "      <td>26.6</td>\n",
       "      <td>0.351</td>\n",
       "      <td>31</td>\n",
       "    </tr>\n",
       "    <tr>\n",
       "      <th>2</th>\n",
       "      <td>8</td>\n",
       "      <td>183</td>\n",
       "      <td>64</td>\n",
       "      <td>0</td>\n",
       "      <td>0</td>\n",
       "      <td>23.3</td>\n",
       "      <td>0.672</td>\n",
       "      <td>32</td>\n",
       "    </tr>\n",
       "    <tr>\n",
       "      <th>3</th>\n",
       "      <td>1</td>\n",
       "      <td>89</td>\n",
       "      <td>66</td>\n",
       "      <td>23</td>\n",
       "      <td>94</td>\n",
       "      <td>28.1</td>\n",
       "      <td>0.167</td>\n",
       "      <td>21</td>\n",
       "    </tr>\n",
       "    <tr>\n",
       "      <th>4</th>\n",
       "      <td>0</td>\n",
       "      <td>137</td>\n",
       "      <td>40</td>\n",
       "      <td>35</td>\n",
       "      <td>168</td>\n",
       "      <td>43.1</td>\n",
       "      <td>2.288</td>\n",
       "      <td>33</td>\n",
       "    </tr>\n",
       "  </tbody>\n",
       "</table>\n",
       "</div>"
      ],
      "text/plain": [
       "   preg  plas  pres  skin  test  mass   pedi  age\n",
       "0     6   148    72    35     0  33.6  0.627   50\n",
       "1     1    85    66    29     0  26.6  0.351   31\n",
       "2     8   183    64     0     0  23.3  0.672   32\n",
       "3     1    89    66    23    94  28.1  0.167   21\n",
       "4     0   137    40    35   168  43.1  2.288   33"
      ]
     },
     "execution_count": 31,
     "metadata": {},
     "output_type": "execute_result"
    }
   ],
   "source": [
    "X = df.drop(['class'], axis=1)\n",
    "print(X.shape)\n",
    "X.head()"
   ]
  },
  {
   "cell_type": "code",
   "execution_count": 32,
   "metadata": {
    "colab": {},
    "colab_type": "code",
    "id": "yJwPoY40EX0Z"
   },
   "outputs": [
    {
     "name": "stdout",
     "output_type": "stream",
     "text": [
      "(768, 9)\n"
     ]
    },
    {
     "data": {
      "text/html": [
       "<div>\n",
       "<style scoped>\n",
       "    .dataframe tbody tr th:only-of-type {\n",
       "        vertical-align: middle;\n",
       "    }\n",
       "\n",
       "    .dataframe tbody tr th {\n",
       "        vertical-align: top;\n",
       "    }\n",
       "\n",
       "    .dataframe thead th {\n",
       "        text-align: right;\n",
       "    }\n",
       "</style>\n",
       "<table border=\"1\" class=\"dataframe\">\n",
       "  <thead>\n",
       "    <tr style=\"text-align: right;\">\n",
       "      <th></th>\n",
       "      <th>preg</th>\n",
       "      <th>plas</th>\n",
       "      <th>pres</th>\n",
       "      <th>skin</th>\n",
       "      <th>test</th>\n",
       "      <th>mass</th>\n",
       "      <th>pedi</th>\n",
       "      <th>age</th>\n",
       "      <th>class</th>\n",
       "    </tr>\n",
       "  </thead>\n",
       "  <tbody>\n",
       "    <tr>\n",
       "      <th>0</th>\n",
       "      <td>6</td>\n",
       "      <td>148</td>\n",
       "      <td>72</td>\n",
       "      <td>35</td>\n",
       "      <td>0</td>\n",
       "      <td>33.6</td>\n",
       "      <td>0.627</td>\n",
       "      <td>50</td>\n",
       "      <td>1</td>\n",
       "    </tr>\n",
       "    <tr>\n",
       "      <th>1</th>\n",
       "      <td>1</td>\n",
       "      <td>85</td>\n",
       "      <td>66</td>\n",
       "      <td>29</td>\n",
       "      <td>0</td>\n",
       "      <td>26.6</td>\n",
       "      <td>0.351</td>\n",
       "      <td>31</td>\n",
       "      <td>0</td>\n",
       "    </tr>\n",
       "    <tr>\n",
       "      <th>2</th>\n",
       "      <td>8</td>\n",
       "      <td>183</td>\n",
       "      <td>64</td>\n",
       "      <td>0</td>\n",
       "      <td>0</td>\n",
       "      <td>23.3</td>\n",
       "      <td>0.672</td>\n",
       "      <td>32</td>\n",
       "      <td>1</td>\n",
       "    </tr>\n",
       "    <tr>\n",
       "      <th>3</th>\n",
       "      <td>1</td>\n",
       "      <td>89</td>\n",
       "      <td>66</td>\n",
       "      <td>23</td>\n",
       "      <td>94</td>\n",
       "      <td>28.1</td>\n",
       "      <td>0.167</td>\n",
       "      <td>21</td>\n",
       "      <td>0</td>\n",
       "    </tr>\n",
       "    <tr>\n",
       "      <th>4</th>\n",
       "      <td>0</td>\n",
       "      <td>137</td>\n",
       "      <td>40</td>\n",
       "      <td>35</td>\n",
       "      <td>168</td>\n",
       "      <td>43.1</td>\n",
       "      <td>2.288</td>\n",
       "      <td>33</td>\n",
       "      <td>1</td>\n",
       "    </tr>\n",
       "  </tbody>\n",
       "</table>\n",
       "</div>"
      ],
      "text/plain": [
       "   preg  plas  pres  skin  test  mass   pedi  age  class\n",
       "0     6   148    72    35     0  33.6  0.627   50      1\n",
       "1     1    85    66    29     0  26.6  0.351   31      0\n",
       "2     8   183    64     0     0  23.3  0.672   32      1\n",
       "3     1    89    66    23    94  28.1  0.167   21      0\n",
       "4     0   137    40    35   168  43.1  2.288   33      1"
      ]
     },
     "execution_count": 32,
     "metadata": {},
     "output_type": "execute_result"
    }
   ],
   "source": [
    "print(df.shape)\n",
    "df.head()"
   ]
  },
  {
   "cell_type": "markdown",
   "metadata": {
    "colab_type": "text",
    "id": "SZ6UBybK_sD8"
   },
   "source": [
    "## 6) Now use the test_train_split function to not only split your dataset into test and train datasets, but also by independent and dependent variables. Pick any integer value to use use as the random seed.\n",
    "\n",
    "You should end up with 4 datasets: X_train, Y_train, X_test, and Y_test\n",
    "\n",
    "Print the sizes and first 5 rows of each of these four datasets."
   ]
  },
  {
   "cell_type": "code",
   "execution_count": null,
   "metadata": {
    "colab": {},
    "colab_type": "code",
    "id": "qf03KoC_-vkj"
   },
   "outputs": [],
   "source": [
    "##### YOUR CODE HERE #####"
   ]
  },
  {
   "cell_type": "code",
   "execution_count": 33,
   "metadata": {
    "colab": {},
    "colab_type": "code",
    "id": "nszWjANuEmf8"
   },
   "outputs": [
    {
     "name": "stdout",
     "output_type": "stream",
     "text": [
      "(614, 8)\n",
      "     preg  plas  pres  skin  test  mass   pedi  age\n",
      "679     2   101    58    17   265  24.2  0.614   23\n",
      "134     2    96    68    13    49  21.1  0.647   26\n",
      "250     9   106    52     0     0  31.2  0.380   42\n",
      "470     1   144    82    40     0  41.3  0.607   28\n",
      "668     6    98    58    33   190  34.0  0.430   43\n",
      "(154, 8)\n",
      "     preg  plas  pres  skin  test  mass   pedi  age\n",
      "649     0   107    60    25     0  26.4  0.133   23\n",
      "516     9   145    88    34   165  30.3  0.771   53\n",
      "151     4   114    65     0     0  21.9  0.432   37\n",
      "381     0   105    68    22     0  20.0  0.236   22\n",
      "325     1   157    72    21   168  25.6  0.123   24\n"
     ]
    }
   ],
   "source": [
    "X_train, X_test = train_test_split(X, test_size=0.2, random_state=17)\n",
    "print(X_train.shape)\n",
    "print(X_train.head())\n",
    "print(X_test.shape)\n",
    "print(X_test.head())"
   ]
  },
  {
   "cell_type": "code",
   "execution_count": 34,
   "metadata": {
    "colab": {},
    "colab_type": "code",
    "id": "xBgp5bIzEmiY"
   },
   "outputs": [
    {
     "name": "stdout",
     "output_type": "stream",
     "text": [
      "(614, 1)\n",
      "     class\n",
      "679      0\n",
      "134      0\n",
      "250      0\n",
      "470      0\n",
      "668      0\n",
      "(154, 1)\n",
      "     class\n",
      "649      0\n",
      "516      1\n",
      "151      0\n",
      "381      0\n",
      "325      0\n"
     ]
    }
   ],
   "source": [
    "Y_train, Y_test = train_test_split(Y, test_size=0.2, random_state=17)\n",
    "print(Y_train.shape)\n",
    "print(Y_train.head())\n",
    "print(Y_test.shape)\n",
    "print(Y_test.head())"
   ]
  },
  {
   "cell_type": "code",
   "execution_count": null,
   "metadata": {
    "colab": {},
    "colab_type": "code",
    "id": "NyyclU83Emk2"
   },
   "outputs": [],
   "source": []
  },
  {
   "cell_type": "code",
   "execution_count": null,
   "metadata": {
    "colab": {},
    "colab_type": "code",
    "id": "AQijB8qKEmmx"
   },
   "outputs": [],
   "source": []
  },
  {
   "cell_type": "markdown",
   "metadata": {
    "colab_type": "text",
    "id": "EBX4UGKnF7x-"
   },
   "source": [
    "## The following code will split our data and then train a logistic regression classifier.\n",
    "\n",
    "## Run the code muliple times using different random_seed. What happens to the model's accuracy? Why do you think  this might be happening? \n",
    "\n",
    "## Research what the \"Random Seed\" is for and how it can help us ensure that our machine learning results are reproducible."
   ]
  },
  {
   "cell_type": "code",
   "execution_count": 43,
   "metadata": {
    "colab": {
     "base_uri": "https://localhost:8080/",
     "height": 34
    },
    "colab_type": "code",
    "id": "vtNW8lJ6FjZl",
    "outputId": "90f2f18b-bc29-4c67-b674-34484303627d"
   },
   "outputs": [
    {
     "name": "stdout",
     "output_type": "stream",
     "text": [
      "Accuracy: 75.974%\n",
      "\n",
      "\n",
      "X_train\n",
      "(614, 8)\n",
      "     preg  plas  pres  skin  test  mass   pedi  age\n",
      "60      2    84     0     0     0   0.0  0.304   21\n",
      "618     9   112    82    24     0  28.2  1.282   50\n",
      "346     1   139    46    19    83  28.7  0.654   22\n",
      "294     0   161    50     0     0  21.9  0.254   65\n",
      "231     6   134    80    37   370  46.2  0.238   46\n",
      "\n",
      "X_test\n",
      "(154, 8)\n",
      "     preg  plas  pres  skin  test  mass   pedi  age\n",
      "668     6    98    58    33   190  34.0  0.430   43\n",
      "324     2   112    75    32     0  35.7  0.148   21\n",
      "624     2   108    64     0     0  30.8  0.158   21\n",
      "690     8   107    80     0     0  24.6  0.856   34\n",
      "473     7   136    90     0     0  29.9  0.210   50\n",
      "\n",
      "Y_train\n",
      "(614,)\n",
      "60     0\n",
      "618    1\n",
      "346    0\n",
      "294    0\n",
      "231    1\n",
      "Name: class, dtype: int64\n",
      "\n",
      "Y_test\n",
      "(154,)\n",
      "668    0\n",
      "324    0\n",
      "624    0\n",
      "690    0\n",
      "473    0\n",
      "Name: class, dtype: int64\n"
     ]
    }
   ],
   "source": [
    "from sklearn import model_selection\n",
    "from sklearn.linear_model import LogisticRegression\n",
    "\n",
    "feature_cols = [col for col in df.columns if 'class' not in col]\n",
    "Y = df['class']\n",
    "X = df[feature_cols]\n",
    "\n",
    "random_seed = 42\n",
    "\n",
    "X_train, X_test, Y_train, Y_test = model_selection.train_test_split(X, Y, test_size=0.2, random_state=random_seed)\n",
    "model = LogisticRegression()\n",
    "model.fit(X_train, Y_train)\n",
    "result = model.score(X_test, Y_test)\n",
    "print(\"Accuracy: %.3f%%\\n\" % (result*100.0))\n",
    "print('\\nX_train')\n",
    "print(X_train.shape)\n",
    "print(X_train.head())\n",
    "print('\\nX_test')\n",
    "print(X_test.shape)\n",
    "print(X_test.head())\n",
    "print('\\nY_train')\n",
    "print(Y_train.shape)\n",
    "print(Y_train.head())\n",
    "print('\\nY_test')\n",
    "print(Y_test.shape)\n",
    "print(Y_test.head())"
   ]
  },
  {
   "cell_type": "code",
   "execution_count": 44,
   "metadata": {},
   "outputs": [
    {
     "data": {
      "text/plain": [
       "array([0.37454012, 0.95071431, 0.73199394, 0.59865848, 0.15601864])"
      ]
     },
     "execution_count": 44,
     "metadata": {},
     "output_type": "execute_result"
    }
   ],
   "source": [
    "np.random.seed(42)\n",
    "np.random.random(5)"
   ]
  },
  {
   "cell_type": "code",
   "execution_count": 45,
   "metadata": {},
   "outputs": [
    {
     "data": {
      "text/plain": [
       "array([0.15599452, 0.05808361, 0.86617615, 0.60111501, 0.70807258])"
      ]
     },
     "execution_count": 45,
     "metadata": {},
     "output_type": "execute_result"
    }
   ],
   "source": [
    "np.random.random(5)"
   ]
  },
  {
   "cell_type": "code",
   "execution_count": 48,
   "metadata": {},
   "outputs": [
    {
     "data": {
      "text/plain": [
       "array([0.37454012, 0.95071431, 0.73199394, 0.59865848, 0.15601864])"
      ]
     },
     "execution_count": 48,
     "metadata": {},
     "output_type": "execute_result"
    }
   ],
   "source": [
    "np.random.seed(42) # the seed makes the 'random' number that follow repeatable\n",
    "np.random.random(5)"
   ]
  },
  {
   "cell_type": "code",
   "execution_count": 47,
   "metadata": {},
   "outputs": [
    {
     "data": {
      "text/plain": [
       "array([0.15599452, 0.05808361, 0.86617615, 0.60111501, 0.70807258])"
      ]
     },
     "execution_count": 47,
     "metadata": {},
     "output_type": "execute_result"
    }
   ],
   "source": [
    "np.random.random(5)"
   ]
  },
  {
   "cell_type": "code",
   "execution_count": null,
   "metadata": {},
   "outputs": [],
   "source": []
  }
 ],
 "metadata": {
  "colab": {
   "name": "Model Tuning CC1.ipynb",
   "provenance": [],
   "version": "0.3.2"
  },
  "kernelspec": {
   "display_name": "Python 3",
   "language": "python",
   "name": "python3"
  },
  "language_info": {
   "codemirror_mode": {
    "name": "ipython",
    "version": 3
   },
   "file_extension": ".py",
   "mimetype": "text/x-python",
   "name": "python",
   "nbconvert_exporter": "python",
   "pygments_lexer": "ipython3",
   "version": "3.6.4"
  }
 },
 "nbformat": 4,
 "nbformat_minor": 2
}
