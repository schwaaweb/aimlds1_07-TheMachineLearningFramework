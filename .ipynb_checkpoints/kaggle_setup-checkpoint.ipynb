{
 "cells": [
  {
   "cell_type": "markdown",
   "metadata": {},
   "source": [
    "# Kaggle\n",
    "\n",
    "\n",
    "[Doc Link](https://github.com/Kaggle/kaggle-api)\n",
    "\n",
    "I signed up for [kaggle](https://www.kaggle.com) using my google email credentials.\n",
    "\n"
   ]
  },
  {
   "cell_type": "code",
   "execution_count": 1,
   "metadata": {},
   "outputs": [
    {
     "name": "stdout",
     "output_type": "stream",
     "text": [
      "Collecting kaggle\n",
      "  Downloading https://files.pythonhosted.org/packages/bd/a6/d93a9492ad8f31b1a0d17225acfa066a38a27f5fc2ce9fc5034a7003fff1/kaggle-1.3.6.tar.gz\n",
      "Requirement already satisfied: urllib3>=1.15 in /Users/schwaaweb/anaconda3/lib/python3.6/site-packages (from kaggle)\n",
      "Requirement already satisfied: six>=1.10 in /Users/schwaaweb/anaconda3/lib/python3.6/site-packages (from kaggle)\n",
      "Requirement already satisfied: certifi in /Users/schwaaweb/anaconda3/lib/python3.6/site-packages (from kaggle)\n",
      "Requirement already satisfied: python-dateutil in /Users/schwaaweb/anaconda3/lib/python3.6/site-packages (from kaggle)\n",
      "Building wheels for collected packages: kaggle\n",
      "  Running setup.py bdist_wheel for kaggle ... \u001b[?25ldone\n",
      "\u001b[?25h  Stored in directory: /Users/schwaaweb/Library/Caches/pip/wheels/98/be/57/a576a1f2f50f5c3bebd0c08fc3b2a6881dfde31c8217014978\n",
      "Successfully built kaggle\n",
      "Installing collected packages: kaggle\n",
      "Successfully installed kaggle-1.3.6\n",
      "\u001b[33mYou are using pip version 9.0.3, however version 10.0.1 is available.\n",
      "You should consider upgrading via the 'pip install --upgrade pip' command.\u001b[0m\n"
     ]
    }
   ],
   "source": [
    "!pip install kaggle"
   ]
  },
  {
   "cell_type": "markdown",
   "metadata": {},
   "source": [
    "### Go to the Account tab on Kaggle and create and api token\n",
    "\n",
    "download the kaggle.json file to your local computer.\n",
    "\n",
    "In this case ~/Downloads"
   ]
  },
  {
   "cell_type": "code",
   "execution_count": 2,
   "metadata": {},
   "outputs": [
    {
     "name": "stdout",
     "output_type": "stream",
     "text": [
      "total 8\n",
      "-rw-------@ 1 schwaaweb  staff    65B May 16 11:58 kaggle.json\n"
     ]
    }
   ],
   "source": [
    "!mkdir ~/.kaggle\n",
    "!mv ~/Downloads/kaggle.json ~/.kaggle\n",
    "!chmod 600 ~/.kaggle/kaggle.json\n",
    "!ls -lh ~/.kaggle"
   ]
  },
  {
   "cell_type": "markdown",
   "metadata": {},
   "source": [
    "Go To [https://www.kaggle.com/c/lambda-school-churn-challenge/data](https://www.kaggle.com/c/lambda-school-churn-challenge/data) and accept the rules of the competition"
   ]
  },
  {
   "cell_type": "code",
   "execution_count": 5,
   "metadata": {},
   "outputs": [
    {
     "name": "stdout",
     "output_type": "stream",
     "text": [
      "test.csv: Downloaded 104KB of 104KB\n",
      "train.csv: Downloaded 200KB of 200KB\n",
      "sampleSubmission.csv: Downloaded 8KB of 8KB\n"
     ]
    }
   ],
   "source": [
    "!kaggle competitions download -c lambda-school-churn-challenge"
   ]
  },
  {
   "cell_type": "code",
   "execution_count": 6,
   "metadata": {},
   "outputs": [
    {
     "name": "stdout",
     "output_type": "stream",
     "text": [
      "total 640\n",
      "-rw-r--r--  1 schwaaweb  staff   8.3K May 16 12:08 sampleSubmission.csv\n",
      "-rw-r--r--  1 schwaaweb  staff   104K May 16 12:08 test.csv\n",
      "-rw-r--r--  1 schwaaweb  staff   200K May 16 12:08 train.csv\n"
     ]
    }
   ],
   "source": [
    "!ls -lh ~/.kaggle/competitions/lambda-school-churn-challenge/"
   ]
  },
  {
   "cell_type": "code",
   "execution_count": null,
   "metadata": {},
   "outputs": [],
   "source": []
  }
 ],
 "metadata": {
  "kernelspec": {
   "display_name": "Python 3",
   "language": "python",
   "name": "python3"
  },
  "language_info": {
   "codemirror_mode": {
    "name": "ipython",
    "version": 3
   },
   "file_extension": ".py",
   "mimetype": "text/x-python",
   "name": "python",
   "nbconvert_exporter": "python",
   "pygments_lexer": "ipython3",
   "version": "3.6.5"
  }
 },
 "nbformat": 4,
 "nbformat_minor": 2
}
