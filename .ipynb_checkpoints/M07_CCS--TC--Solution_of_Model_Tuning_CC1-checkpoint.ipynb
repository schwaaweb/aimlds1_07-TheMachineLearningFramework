{
 "cells": [
  {
   "cell_type": "markdown",
   "metadata": {
    "colab_type": "text",
    "id": "view-in-github"
   },
   "source": [
    "[Lecture](https://youtu.be/lJM1NaS-P5g)\n",
    "\n",
    "\n",
    "[View in Colaboratory](https://colab.research.google.com/github/schwaaweb/aimlds1_07-TheMachineLearningFramework/blob/master/M07_CCS--TC--Solution_of_Model_Tuning_CC1.ipynb)"
   ]
  },
  {
   "cell_type": "markdown",
   "metadata": {
    "colab_type": "text",
    "id": "GktCVk6V0sa2"
   },
   "source": [
    "# Splitting data into Test/Train datasets\n",
    "\n",
    "\n",
    "In this code challenge we're going to use the Pima Indians Diabetes dataset to split our data into test/train datasets both manually and using a library."
   ]
  },
  {
   "cell_type": "code",
   "execution_count": 1,
   "metadata": {
    "colab": {
     "base_uri": "https://localhost:8080/",
     "height": 219
    },
    "colab_type": "code",
    "id": "dX1ImgKgtC0l",
    "outputId": "d4dac7ab-8ab4-433a-ad20-c243a30bd855"
   },
   "outputs": [
    {
     "name": "stdout",
     "output_type": "stream",
     "text": [
      "(768, 9)\n"
     ]
    },
    {
     "data": {
      "text/html": [
       "<div>\n",
       "<style scoped>\n",
       "    .dataframe tbody tr th:only-of-type {\n",
       "        vertical-align: middle;\n",
       "    }\n",
       "\n",
       "    .dataframe tbody tr th {\n",
       "        vertical-align: top;\n",
       "    }\n",
       "\n",
       "    .dataframe thead th {\n",
       "        text-align: right;\n",
       "    }\n",
       "</style>\n",
       "<table border=\"1\" class=\"dataframe\">\n",
       "  <thead>\n",
       "    <tr style=\"text-align: right;\">\n",
       "      <th></th>\n",
       "      <th>preg</th>\n",
       "      <th>plas</th>\n",
       "      <th>pres</th>\n",
       "      <th>skin</th>\n",
       "      <th>test</th>\n",
       "      <th>mass</th>\n",
       "      <th>pedi</th>\n",
       "      <th>age</th>\n",
       "      <th>class</th>\n",
       "    </tr>\n",
       "  </thead>\n",
       "  <tbody>\n",
       "    <tr>\n",
       "      <th>0</th>\n",
       "      <td>6</td>\n",
       "      <td>148</td>\n",
       "      <td>72</td>\n",
       "      <td>35</td>\n",
       "      <td>0</td>\n",
       "      <td>33.6</td>\n",
       "      <td>0.627</td>\n",
       "      <td>50</td>\n",
       "      <td>1</td>\n",
       "    </tr>\n",
       "    <tr>\n",
       "      <th>1</th>\n",
       "      <td>1</td>\n",
       "      <td>85</td>\n",
       "      <td>66</td>\n",
       "      <td>29</td>\n",
       "      <td>0</td>\n",
       "      <td>26.6</td>\n",
       "      <td>0.351</td>\n",
       "      <td>31</td>\n",
       "      <td>0</td>\n",
       "    </tr>\n",
       "    <tr>\n",
       "      <th>2</th>\n",
       "      <td>8</td>\n",
       "      <td>183</td>\n",
       "      <td>64</td>\n",
       "      <td>0</td>\n",
       "      <td>0</td>\n",
       "      <td>23.3</td>\n",
       "      <td>0.672</td>\n",
       "      <td>32</td>\n",
       "      <td>1</td>\n",
       "    </tr>\n",
       "    <tr>\n",
       "      <th>3</th>\n",
       "      <td>1</td>\n",
       "      <td>89</td>\n",
       "      <td>66</td>\n",
       "      <td>23</td>\n",
       "      <td>94</td>\n",
       "      <td>28.1</td>\n",
       "      <td>0.167</td>\n",
       "      <td>21</td>\n",
       "      <td>0</td>\n",
       "    </tr>\n",
       "    <tr>\n",
       "      <th>4</th>\n",
       "      <td>0</td>\n",
       "      <td>137</td>\n",
       "      <td>40</td>\n",
       "      <td>35</td>\n",
       "      <td>168</td>\n",
       "      <td>43.1</td>\n",
       "      <td>2.288</td>\n",
       "      <td>33</td>\n",
       "      <td>1</td>\n",
       "    </tr>\n",
       "  </tbody>\n",
       "</table>\n",
       "</div>"
      ],
      "text/plain": [
       "   preg  plas  pres  skin  test  mass   pedi  age  class\n",
       "0     6   148    72    35     0  33.6  0.627   50      1\n",
       "1     1    85    66    29     0  26.6  0.351   31      0\n",
       "2     8   183    64     0     0  23.3  0.672   32      1\n",
       "3     1    89    66    23    94  28.1  0.167   21      0\n",
       "4     0   137    40    35   168  43.1  2.288   33      1"
      ]
     },
     "execution_count": 1,
     "metadata": {},
     "output_type": "execute_result"
    }
   ],
   "source": [
    "# LAMBDA SCHOOL\n",
    "# \n",
    "# MACHINE LEARNING\n",
    "#\n",
    "# MIT LICENSE\n",
    "\n",
    "# Import Data and Libraries\n",
    "import pandas as pd\n",
    "import numpy as np\n",
    "from sklearn.model_selection import train_test_split\n",
    "\n",
    "url = \"https://raw.githubusercontent.com/jbrownlee/Datasets/master/pima-indians-diabetes.data.csv\"\n",
    "names = ['preg', 'plas', 'pres', 'skin', 'test', 'mass', 'pedi', 'age', 'class']\n",
    "df = pd.read_csv(url, names=names)\n",
    "print(df.shape)\n",
    "df.head()"
   ]
  },
  {
   "cell_type": "markdown",
   "metadata": {
    "colab_type": "text",
    "id": "9wUwQMrZ4Xhi"
   },
   "source": [
    "\n",
    "## 1) Randomly a select 20% of your data to be in your \"test\" dataset and the other 80% to be in your \"train\" dataset. Do this without setting a random seed.\n"
   ]
  },
  {
   "cell_type": "code",
   "execution_count": 2,
   "metadata": {
    "colab": {
     "base_uri": "https://localhost:8080/",
     "height": 52
    },
    "colab_type": "code",
    "id": "bGOsRHPz5KVz",
    "outputId": "1c10dcdf-9bea-4ac5-fc7b-f9361d561d31"
   },
   "outputs": [
    {
     "name": "stdout",
     "output_type": "stream",
     "text": [
      "614\n",
      "154\n"
     ]
    }
   ],
   "source": [
    "train_set_size = int(0.8 * len(df))\n",
    "test_set_size = len(df) - train_set_size\n",
    "print(train_set_size)\n",
    "print(test_set_size)\n",
    "\n",
    "# Reorder df so that our train and test sets are randomized\n",
    "df_reordered = np.random.permutation(len(df))\n",
    "#train_set = df[df_reordered[0:train_set_size]]\n",
    "# test_set = df[df_reordered[train_set_size+1:]]\n",
    "\n",
    "np.random.seed(42)\n",
    "train_set_manual = df.sample(frac=0.8)\n",
    "test_set_manual = df.drop(train_set_manual.index)\n"
   ]
  },
  {
   "cell_type": "markdown",
   "metadata": {
    "colab_type": "text",
    "id": "EQSvwvha6Ckm"
   },
   "source": [
    "## 2) After you have randomly divided the dataset, print the shape of both of your new test and train datasets and print the first five rows of each."
   ]
  },
  {
   "cell_type": "code",
   "execution_count": 3,
   "metadata": {
    "colab": {
     "base_uri": "https://localhost:8080/",
     "height": 139
    },
    "colab_type": "code",
    "id": "T5GmmxLB6GAi",
    "outputId": "5f9d263e-e3ea-4816-fb12-e8f4b32a187d"
   },
   "outputs": [
    {
     "name": "stdout",
     "output_type": "stream",
     "text": [
      "(614, 9)\n",
      "     preg  plas  pres  skin  test  mass   pedi  age  class\n",
      "668     6    98    58    33   190  34.0  0.430   43      0\n",
      "324     2   112    75    32     0  35.7  0.148   21      0\n",
      "624     2   108    64     0     0  30.8  0.158   21      0\n",
      "690     8   107    80     0     0  24.6  0.856   34      0\n",
      "473     7   136    90     0     0  29.9  0.210   50      0\n"
     ]
    }
   ],
   "source": [
    "##### Print train dataset shape and first 5 rows. #####\n",
    "print(train_set_manual.shape)\n",
    "print(train_set_manual.head())"
   ]
  },
  {
   "cell_type": "code",
   "execution_count": 4,
   "metadata": {
    "colab": {
     "base_uri": "https://localhost:8080/",
     "height": 139
    },
    "colab_type": "code",
    "id": "mHcKKfpM6Ymw",
    "outputId": "8f6c909e-b2b0-4f9e-c735-9bc7657b675d"
   },
   "outputs": [
    {
     "name": "stdout",
     "output_type": "stream",
     "text": [
      "(154, 9)\n",
      "    preg  plas  pres  skin  test  mass   pedi  age  class\n",
      "1      1    85    66    29     0  26.6  0.351   31      0\n",
      "4      0   137    40    35   168  43.1  2.288   33      1\n",
      "13     1   189    60    23   846  30.1  0.398   59      1\n",
      "14     5   166    72    19   175  25.8  0.587   51      1\n",
      "20     3   126    88    41   235  39.3  0.704   27      0\n"
     ]
    }
   ],
   "source": [
    "##### Print test dataset shape and first 5 rows. #####\n",
    "print(test_set_manual.shape)\n",
    "print(test_set_manual.head())"
   ]
  },
  {
   "cell_type": "markdown",
   "metadata": {
    "colab_type": "text",
    "id": "_GQKvlQz4PPl"
   },
   "source": [
    "## 3) Use sklearn's train_test_split function to split the data into test and training datasets. Set the random_state to 42"
   ]
  },
  {
   "cell_type": "code",
   "execution_count": 5,
   "metadata": {
    "colab": {},
    "colab_type": "code",
    "id": "MkvUiq1A8vIp"
   },
   "outputs": [],
   "source": [
    "train_df, test_df = train_test_split(df, test_size=0.2, random_state=42)"
   ]
  },
  {
   "cell_type": "markdown",
   "metadata": {
    "colab_type": "text",
    "id": "klLdQQOJ8_Er"
   },
   "source": [
    "## 4) Print the shape and first 5 rows of the new dataframes."
   ]
  },
  {
   "cell_type": "code",
   "execution_count": 6,
   "metadata": {
    "colab": {
     "base_uri": "https://localhost:8080/",
     "height": 139
    },
    "colab_type": "code",
    "id": "bAeb7eGd9KTB",
    "outputId": "7beb896e-623e-4f54-d06c-19f772031472"
   },
   "outputs": [
    {
     "name": "stdout",
     "output_type": "stream",
     "text": [
      "(614, 9)\n",
      "     preg  plas  pres  skin  test  mass   pedi  age  class\n",
      "60      2    84     0     0     0   0.0  0.304   21      0\n",
      "618     9   112    82    24     0  28.2  1.282   50      1\n",
      "346     1   139    46    19    83  28.7  0.654   22      0\n",
      "294     0   161    50     0     0  21.9  0.254   65      0\n",
      "231     6   134    80    37   370  46.2  0.238   46      1\n"
     ]
    }
   ],
   "source": [
    "print(train_df.shape)\n",
    "print(train_df.head())"
   ]
  },
  {
   "cell_type": "code",
   "execution_count": 7,
   "metadata": {
    "colab": {
     "base_uri": "https://localhost:8080/",
     "height": 139
    },
    "colab_type": "code",
    "id": "LFgf01VQ9LbF",
    "outputId": "cccba51d-a181-4d47-ca8d-8e7cf6765c90"
   },
   "outputs": [
    {
     "name": "stdout",
     "output_type": "stream",
     "text": [
      "(154, 9)\n",
      "     preg  plas  pres  skin  test  mass   pedi  age  class\n",
      "668     6    98    58    33   190  34.0  0.430   43      0\n",
      "324     2   112    75    32     0  35.7  0.148   21      0\n",
      "624     2   108    64     0     0  30.8  0.158   21      0\n",
      "690     8   107    80     0     0  24.6  0.856   34      0\n",
      "473     7   136    90     0     0  29.9  0.210   50      0\n"
     ]
    }
   ],
   "source": [
    "print(test_df.shape)\n",
    "print(test_df.head())"
   ]
  },
  {
   "cell_type": "markdown",
   "metadata": {
    "colab_type": "text",
    "id": "5Cgx2fFs-eug"
   },
   "source": [
    "### Change the random state on your test_train_split to a different integer and run the code again. What happens to the shape of the dataset? What happens to the first five rows?\n",
    "\n",
    "\n",
    "---\n",
    "\n"
   ]
  },
  {
   "cell_type": "markdown",
   "metadata": {
    "colab_type": "text",
    "id": "ryHptM1we7ph"
   },
   "source": []
  },
  {
   "cell_type": "markdown",
   "metadata": {
    "colab_type": "text",
    "id": "0j7w3AqeBg70"
   },
   "source": [
    "## 5) Using the original dataframe, create two new dataframes titled \"X\" and \"Y\". \n",
    "\n",
    "The Y dataframe should be composed of only the \"class\" column (our dependent variable - or what we want to predict) and the X dataframe should be composed of all other columns. (Our independent variables, sometimes called features or predictors)\n",
    "\n",
    "Print their shape as well as the first 5 rows of these two dataframes.\n"
   ]
  },
  {
   "cell_type": "code",
   "execution_count": 8,
   "metadata": {
    "colab": {},
    "colab_type": "code",
    "id": "IA0x_zRTCYhE"
   },
   "outputs": [],
   "source": [
    "Y = df['class']\n",
    "X = df.drop(['class'],axis=1)"
   ]
  },
  {
   "cell_type": "code",
   "execution_count": 9,
   "metadata": {
    "colab": {
     "base_uri": "https://localhost:8080/",
     "height": 139
    },
    "colab_type": "code",
    "id": "KxumB3JqEXqG",
    "outputId": "900db59a-04b2-4af7-9e87-07f9e46d0408"
   },
   "outputs": [
    {
     "name": "stdout",
     "output_type": "stream",
     "text": [
      "(768, 8)\n",
      "   preg  plas  pres  skin  test  mass   pedi  age\n",
      "0     6   148    72    35     0  33.6  0.627   50\n",
      "1     1    85    66    29     0  26.6  0.351   31\n",
      "2     8   183    64     0     0  23.3  0.672   32\n",
      "3     1    89    66    23    94  28.1  0.167   21\n",
      "4     0   137    40    35   168  43.1  2.288   33\n"
     ]
    }
   ],
   "source": [
    "print(X.shape)\n",
    "print(X.head())"
   ]
  },
  {
   "cell_type": "code",
   "execution_count": 10,
   "metadata": {
    "colab": {
     "base_uri": "https://localhost:8080/",
     "height": 139
    },
    "colab_type": "code",
    "id": "yJwPoY40EX0Z",
    "outputId": "26273a22-4f1a-4045-e016-66e71d6021a0"
   },
   "outputs": [
    {
     "name": "stdout",
     "output_type": "stream",
     "text": [
      "(768,)\n",
      "0    1\n",
      "1    0\n",
      "2    1\n",
      "3    0\n",
      "4    1\n",
      "Name: class, dtype: int64\n"
     ]
    }
   ],
   "source": [
    "\n",
    "print(Y.shape)\n",
    "print(Y.head())"
   ]
  },
  {
   "cell_type": "markdown",
   "metadata": {
    "colab_type": "text",
    "id": "SZ6UBybK_sD8"
   },
   "source": [
    "## 6) Now use the test_train_split function to not only split your dataset into test and train datasets, but also by independent and dependent variables. Pick any integer value to use use as the random seed.\n",
    "\n",
    "You should end up with 4 datasets: X_train, Y_train, X_test, and Y_test\n",
    "\n",
    "Print the sizes and first 5 rows of each of these four datasets."
   ]
  },
  {
   "cell_type": "code",
   "execution_count": 11,
   "metadata": {
    "colab": {},
    "colab_type": "code",
    "id": "qf03KoC_-vkj"
   },
   "outputs": [],
   "source": [
    "X_train, X_test, Y_train, Y_test = train_test_split(X,Y,test_size=0.2,random_state=42)"
   ]
  },
  {
   "cell_type": "code",
   "execution_count": 12,
   "metadata": {
    "colab": {
     "base_uri": "https://localhost:8080/",
     "height": 139
    },
    "colab_type": "code",
    "id": "nszWjANuEmf8",
    "outputId": "dd5c6aeb-35ed-4f92-8a76-222bb8929b28"
   },
   "outputs": [
    {
     "name": "stdout",
     "output_type": "stream",
     "text": [
      "(614, 8)\n",
      "     preg  plas  pres  skin  test  mass   pedi  age\n",
      "60      2    84     0     0     0   0.0  0.304   21\n",
      "618     9   112    82    24     0  28.2  1.282   50\n",
      "346     1   139    46    19    83  28.7  0.654   22\n",
      "294     0   161    50     0     0  21.9  0.254   65\n",
      "231     6   134    80    37   370  46.2  0.238   46\n"
     ]
    }
   ],
   "source": [
    "print(X_train.shape)\n",
    "print(X_train.head())"
   ]
  },
  {
   "cell_type": "code",
   "execution_count": 13,
   "metadata": {
    "colab": {
     "base_uri": "https://localhost:8080/",
     "height": 139
    },
    "colab_type": "code",
    "id": "xBgp5bIzEmiY",
    "outputId": "2b64d4e1-dec0-4a42-a66d-38f4b54407f5"
   },
   "outputs": [
    {
     "name": "stdout",
     "output_type": "stream",
     "text": [
      "(614,)\n",
      "60     0\n",
      "618    1\n",
      "346    0\n",
      "294    0\n",
      "231    1\n",
      "Name: class, dtype: int64\n"
     ]
    }
   ],
   "source": [
    "print(Y_train.shape)\n",
    "print(Y_train.head())"
   ]
  },
  {
   "cell_type": "code",
   "execution_count": 14,
   "metadata": {
    "colab": {
     "base_uri": "https://localhost:8080/",
     "height": 139
    },
    "colab_type": "code",
    "id": "NyyclU83Emk2",
    "outputId": "22e93a29-ccde-4e1a-a0b5-0744face9151"
   },
   "outputs": [
    {
     "name": "stdout",
     "output_type": "stream",
     "text": [
      "(154, 8)\n",
      "     preg  plas  pres  skin  test  mass   pedi  age\n",
      "668     6    98    58    33   190  34.0  0.430   43\n",
      "324     2   112    75    32     0  35.7  0.148   21\n",
      "624     2   108    64     0     0  30.8  0.158   21\n",
      "690     8   107    80     0     0  24.6  0.856   34\n",
      "473     7   136    90     0     0  29.9  0.210   50\n"
     ]
    }
   ],
   "source": [
    "\n",
    "print(X_test.shape)\n",
    "print(X_test.head())"
   ]
  },
  {
   "cell_type": "code",
   "execution_count": 15,
   "metadata": {
    "colab": {
     "base_uri": "https://localhost:8080/",
     "height": 139
    },
    "colab_type": "code",
    "id": "AQijB8qKEmmx",
    "outputId": "f312df5a-911b-4356-cafd-20085583b16a"
   },
   "outputs": [
    {
     "name": "stdout",
     "output_type": "stream",
     "text": [
      "(154,)\n",
      "668    0\n",
      "324    0\n",
      "624    0\n",
      "690    0\n",
      "473    0\n",
      "Name: class, dtype: int64\n"
     ]
    }
   ],
   "source": [
    "print(Y_test.shape)\n",
    "print(Y_test.head())"
   ]
  },
  {
   "cell_type": "markdown",
   "metadata": {
    "colab_type": "text",
    "id": "EBX4UGKnF7x-"
   },
   "source": [
    "## The following code will split our data and then train a logistic regression classifier.\n",
    "\n",
    "## Run the code muliple times using different random_seed. What happens to the model's accuracy? Why do you think  this might be happening? \n",
    "\n",
    "## Research what the \"Random Seed\" is for and how it can help us ensure that our machine learning results are reproducible."
   ]
  },
  {
   "cell_type": "code",
   "execution_count": 16,
   "metadata": {
    "colab": {
     "base_uri": "https://localhost:8080/",
     "height": 35
    },
    "colab_type": "code",
    "id": "vtNW8lJ6FjZl",
    "outputId": "9d9d0259-a288-407e-c4e9-3e2a09482064"
   },
   "outputs": [
    {
     "name": "stdout",
     "output_type": "stream",
     "text": [
      "Accuracy: 75.974%\n"
     ]
    }
   ],
   "source": [
    "from sklearn.linear_model import LogisticRegression\n",
    "\n",
    "feature_cols = [col for col in df.columns if 'class' not in col]\n",
    "Y = df['class']\n",
    "X = df[feature_cols]\n",
    "\n",
    "random_seed = 42\n",
    "\n",
    "X_train, X_test, Y_train, Y_test = train_test_split(X, Y, test_size=0.2, random_state=random_seed)\n",
    "model = LogisticRegression()\n",
    "model.fit(X_train, Y_train)\n",
    "result = model.score(X_test, Y_test)\n",
    "print(\"Accuracy: %.3f%%\" % (result*100.0))"
   ]
  },
  {
   "cell_type": "code",
   "execution_count": 17,
   "metadata": {
    "colab": {
     "base_uri": "https://localhost:8080/",
     "height": 35
    },
    "colab_type": "code",
    "id": "vrefq6tNhgvA",
    "outputId": "6d846867-e847-4906-c1e0-07c100a69a01"
   },
   "outputs": [
    {
     "name": "stdout",
     "output_type": "stream",
     "text": [
      "[0.37454012 0.95071431 0.73199394 0.59865848 0.15601864]\n"
     ]
    }
   ],
   "source": [
    "# Computers are _deterministic_\n",
    "\n",
    "np.random.seed(42)\n",
    "print(np.random.random(5))"
   ]
  },
  {
   "cell_type": "code",
   "execution_count": 18,
   "metadata": {
    "colab": {
     "base_uri": "https://localhost:8080/",
     "height": 35
    },
    "colab_type": "code",
    "id": "b27HPtb2i1HJ",
    "outputId": "b5fc5779-14a8-4b0b-c998-a7b4d03b9570"
   },
   "outputs": [
    {
     "name": "stdout",
     "output_type": "stream",
     "text": [
      "[0.15599452 0.05808361 0.86617615 0.60111501 0.70807258]\n"
     ]
    }
   ],
   "source": [
    "print(np.random.random(5))"
   ]
  },
  {
   "cell_type": "code",
   "execution_count": null,
   "metadata": {
    "colab": {},
    "colab_type": "code",
    "id": "BD3fHs6ZjRPs"
   },
   "outputs": [],
   "source": []
  },
  {
   "cell_type": "code",
   "execution_count": 19,
   "metadata": {
    "colab": {
     "base_uri": "https://localhost:8080/",
     "height": 52
    },
    "colab_type": "code",
    "id": "NcGXnxfoi3el",
    "outputId": "675146ba-7290-4330-dc03-0ecdd92c3c91"
   },
   "outputs": [
    {
     "name": "stdout",
     "output_type": "stream",
     "text": [
      "[0.37454012 0.95071431 0.73199394 0.59865848 0.15601864]\n",
      "[0.15599452 0.05808361 0.86617615 0.60111501 0.70807258]\n"
     ]
    }
   ],
   "source": [
    "np.random.seed(42)\n",
    "print(np.random.random(5))\n",
    "print(np.random.random(5))"
   ]
  },
  {
   "cell_type": "code",
   "execution_count": 20,
   "metadata": {
    "colab": {
     "base_uri": "https://localhost:8080/",
     "height": 52
    },
    "colab_type": "code",
    "id": "gRcvufGcjO-2",
    "outputId": "e742a89a-880d-4bf4-c5f2-e3020dc6741d"
   },
   "outputs": [
    {
     "name": "stdout",
     "output_type": "stream",
     "text": [
      "[0.11505457 0.60906654 0.13339096 0.24058962 0.32713906]\n",
      "[0.85913749 0.66609021 0.54116221 0.02901382 0.7337483 ]\n"
     ]
    }
   ],
   "source": [
    "np.random.seed(43)\n",
    "print(np.random.random(5))\n",
    "print(np.random.random(5))"
   ]
  },
  {
   "cell_type": "code",
   "execution_count": 21,
   "metadata": {
    "colab": {
     "base_uri": "https://localhost:8080/",
     "height": 35
    },
    "colab_type": "code",
    "id": "GmKKE1kcjTla",
    "outputId": "7261a888-666c-4d0d-c3bf-65b1d28aa102"
   },
   "outputs": [
    {
     "name": "stdout",
     "output_type": "stream",
     "text": [
      "1.4844007815300872e-69\n"
     ]
    }
   ],
   "source": [
    "# 101010\n",
    "\n",
    "r = 42.0 / 123123123123123\n",
    "r = r / 123123123123123\n",
    "r = r / 123123123123123\n",
    "r = r / 123123123123123\n",
    "r = r / 123123123123123\n",
    "\n",
    "print(r)"
   ]
  },
  {
   "cell_type": "code",
   "execution_count": 22,
   "metadata": {
    "colab": {
     "base_uri": "https://localhost:8080/",
     "height": 166
    },
    "colab_type": "code",
    "id": "qeOfUC6IjypR",
    "outputId": "0db20886-d418-48a7-8582-abbb3c3e8495"
   },
   "outputs": [
    {
     "ename": "ValueError",
     "evalue": "Unknown format code 'b' for object of type 'float'",
     "output_type": "error",
     "traceback": [
      "\u001b[0;31m---------------------------------------------------------------------------\u001b[0m",
      "\u001b[0;31mValueError\u001b[0m                                Traceback (most recent call last)",
      "\u001b[0;32m<ipython-input-22-8a2bb9c0ee0e>\u001b[0m in \u001b[0;36m<module>\u001b[0;34m()\u001b[0m\n\u001b[0;32m----> 1\u001b[0;31m \u001b[0;34m\"{0:b}\"\u001b[0m\u001b[0;34m.\u001b[0m\u001b[0mformat\u001b[0m\u001b[0;34m(\u001b[0m\u001b[0mr\u001b[0m\u001b[0;34m)\u001b[0m\u001b[0;34m\u001b[0m\u001b[0m\n\u001b[0m",
      "\u001b[0;31mValueError\u001b[0m: Unknown format code 'b' for object of type 'float'"
     ]
    }
   ],
   "source": [
    "\"{0:b}\".format(r)"
   ]
  },
  {
   "cell_type": "code",
   "execution_count": null,
   "metadata": {
    "colab": {},
    "colab_type": "code",
    "id": "IHQUla37j5W9"
   },
   "outputs": [],
   "source": []
  }
 ],
 "metadata": {
  "colab": {
   "collapsed_sections": [],
   "name": "Solution of Model Tuning CC1.ipynb",
   "provenance": [],
   "version": "0.3.2"
  },
  "kernelspec": {
   "display_name": "Python 3",
   "language": "python",
   "name": "python3"
  },
  "language_info": {
   "codemirror_mode": {
    "name": "ipython",
    "version": 3
   },
   "file_extension": ".py",
   "mimetype": "text/x-python",
   "name": "python",
   "nbconvert_exporter": "python",
   "pygments_lexer": "ipython3",
   "version": "3.6.4"
  }
 },
 "nbformat": 4,
 "nbformat_minor": 2
}
