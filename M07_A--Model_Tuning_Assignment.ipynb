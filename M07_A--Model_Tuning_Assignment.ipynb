{
 "cells": [
  {
   "cell_type": "markdown",
   "metadata": {
    "colab_type": "text",
    "id": "view-in-github"
   },
   "source": [
    "[View in Colaboratory](https://colab.research.google.com/github/schwaaweb/aimlds1_07-TheMachineLearningFramework/blob/master/M07_A--Model_Tuning_Assignment.ipynb)"
   ]
  },
  {
   "cell_type": "markdown",
   "metadata": {
    "colab_type": "text",
    "id": "j3-9qZ80euzF"
   },
   "source": [
    "# Part One: K-fold Cross Validation\n",
    "\n",
    "The challenge of training machine learning models is to be able to make accurate predictions on previously unseen real-world data in spite of the fact that we only have a finite training dataset to learn from. \n",
    "\n",
    "One way of validating our model's quality-of-fit and avoiding overfitting/underfitting, is to use the test_train_split method like we did in the code challenge. With this method, the randomly selected test dataset can be used to evaluate how our model performs on data that it has not yet seen in the training process. However, there are downsides to this approach:\n",
    "\n",
    "*   We lose a valuable portion of data that we would prefer to be able to train on to serve as the test dataset. We would prefer to have both the testing and training datasets be as large as possible.\n",
    "*   With small datasets, measures of our model's quality using the test_train_split method often have a high variance. (We saw this behavior when we changed the random seed in the code challenge)\n",
    "\n",
    "We can reduce the severity of both of these drawbacks by using what is called K-fold Cross Validation:\n",
    "\n",
    "[Short Video Explaining K-Fold Cross Validation](https://www.youtube.com/watch?v=TIgfjmp-4BA)\n",
    "\n",
    "[How to Implement K-Fold Cross Validation on the Pima Indians Diabetes dataset](https://machinelearningmastery.com/evaluate-performance-machine-learning-algorithms-python-using-resampling/)"
   ]
  },
  {
   "cell_type": "markdown",
   "metadata": {
    "colab_type": "text",
    "id": "8-xSRguyK0SS"
   },
   "source": [
    "## DO THIS:\n",
    "\n",
    "**1)** Train a logistic regression model on the titanic dataset predicting survivors first using a 20-80% test_train_split and print the accuracy of your model using 5 different random seeds.\n",
    "\n",
    "**2)** Use 5-fold Cross Validation on the titanic dataset. Print out the accuracies from each of the 5 folds of the cross validation, then print the final mean and standard deviation of those cross validation accuracies. How do the accuracies on each of the inidvidual folds compare to the accuracies of the test_train_split approach? Is the variance in accuracies of the cross-validation approach higher or lower than the variance of the test_train_split approach? \n",
    "\n",
    "**3)** Try using 3-fold Cross Validation as well as 10-fold cross validation. How does the number of folds in the cross-validation process affect the outcome? How many folds should be used?\n",
    "\n",
    "---\n",
    "I would give you more boilerplate code here, but I don't want to make it too easy. The articles linked above should be sufficient for this purpose."
   ]
  },
  {
   "cell_type": "code",
   "execution_count": 1,
   "metadata": {
    "colab": {},
    "colab_type": "code",
    "id": "kqwcuyA9K6dq"
   },
   "outputs": [
    {
     "data": {
      "text/html": [
       "<div>\n",
       "<style scoped>\n",
       "    .dataframe tbody tr th:only-of-type {\n",
       "        vertical-align: middle;\n",
       "    }\n",
       "\n",
       "    .dataframe tbody tr th {\n",
       "        vertical-align: top;\n",
       "    }\n",
       "\n",
       "    .dataframe thead th {\n",
       "        text-align: right;\n",
       "    }\n",
       "</style>\n",
       "<table border=\"1\" class=\"dataframe\">\n",
       "  <thead>\n",
       "    <tr style=\"text-align: right;\">\n",
       "      <th></th>\n",
       "      <th>survived</th>\n",
       "      <th>pclass</th>\n",
       "      <th>sex</th>\n",
       "      <th>age</th>\n",
       "      <th>sibsp</th>\n",
       "      <th>parch</th>\n",
       "      <th>fare</th>\n",
       "      <th>embarked</th>\n",
       "      <th>alone</th>\n",
       "    </tr>\n",
       "  </thead>\n",
       "  <tbody>\n",
       "    <tr>\n",
       "      <th>0</th>\n",
       "      <td>0</td>\n",
       "      <td>3</td>\n",
       "      <td>1</td>\n",
       "      <td>22.0</td>\n",
       "      <td>1</td>\n",
       "      <td>0</td>\n",
       "      <td>7.2500</td>\n",
       "      <td>2</td>\n",
       "      <td>0</td>\n",
       "    </tr>\n",
       "    <tr>\n",
       "      <th>1</th>\n",
       "      <td>1</td>\n",
       "      <td>1</td>\n",
       "      <td>0</td>\n",
       "      <td>38.0</td>\n",
       "      <td>1</td>\n",
       "      <td>0</td>\n",
       "      <td>71.2833</td>\n",
       "      <td>0</td>\n",
       "      <td>0</td>\n",
       "    </tr>\n",
       "    <tr>\n",
       "      <th>2</th>\n",
       "      <td>1</td>\n",
       "      <td>3</td>\n",
       "      <td>0</td>\n",
       "      <td>26.0</td>\n",
       "      <td>0</td>\n",
       "      <td>0</td>\n",
       "      <td>7.9250</td>\n",
       "      <td>2</td>\n",
       "      <td>1</td>\n",
       "    </tr>\n",
       "    <tr>\n",
       "      <th>3</th>\n",
       "      <td>1</td>\n",
       "      <td>1</td>\n",
       "      <td>0</td>\n",
       "      <td>35.0</td>\n",
       "      <td>1</td>\n",
       "      <td>0</td>\n",
       "      <td>53.1000</td>\n",
       "      <td>2</td>\n",
       "      <td>0</td>\n",
       "    </tr>\n",
       "    <tr>\n",
       "      <th>4</th>\n",
       "      <td>0</td>\n",
       "      <td>3</td>\n",
       "      <td>1</td>\n",
       "      <td>35.0</td>\n",
       "      <td>0</td>\n",
       "      <td>0</td>\n",
       "      <td>8.0500</td>\n",
       "      <td>2</td>\n",
       "      <td>1</td>\n",
       "    </tr>\n",
       "  </tbody>\n",
       "</table>\n",
       "</div>"
      ],
      "text/plain": [
       "   survived  pclass  sex   age  sibsp  parch     fare  embarked  alone\n",
       "0         0       3    1  22.0      1      0   7.2500         2      0\n",
       "1         1       1    0  38.0      1      0  71.2833         0      0\n",
       "2         1       3    0  26.0      0      0   7.9250         2      1\n",
       "3         1       1    0  35.0      1      0  53.1000         2      0\n",
       "4         0       3    1  35.0      0      0   8.0500         2      1"
      ]
     },
     "execution_count": 1,
     "metadata": {},
     "output_type": "execute_result"
    }
   ],
   "source": [
    "##### YOUR CODE HERE ##### - Feel free to add code cells as necessary.\n",
    "import numpy as np\n",
    "import pandas as pd\n",
    "from sklearn.preprocessing import LabelEncoder\n",
    "import seaborn as sns\n",
    "\n",
    "titanic = sns.load_dataset('titanic')\n",
    "\n",
    "# drop duplicate/analogous columns\n",
    "titanic = titanic.drop(['alive',\n",
    "                        'adult_male',\n",
    "                        'who',\n",
    "                        'class',\n",
    "                        'embark_town'], axis=1)\n",
    "\n",
    "# take care of missing data\n",
    "titanic['embarked'] = titanic['embarked'].fillna(method='ffill')\n",
    "titanic = titanic.drop(['deck'], axis=1)\n",
    "titanic['age'] = titanic['age'].fillna(method='ffill')\n",
    "\n",
    "# convert binomials and categoricals to encoded labels\n",
    "for label in ['embarked', 'sex', 'alone']:\n",
    "    titanic[label] = LabelEncoder().fit_transform(titanic[label])\n",
    "\n",
    "titanic.head()\n",
    "\n",
    "\n"
   ]
  },
  {
   "cell_type": "code",
   "execution_count": 2,
   "metadata": {},
   "outputs": [
    {
     "name": "stdout",
     "output_type": "stream",
     "text": [
      "   survived\n",
      "0         0\n",
      "1         1\n",
      "2         1\n",
      "3         1\n",
      "4         0\n",
      "   pclass  sex   age  sibsp  parch     fare  embarked  alone\n",
      "0       3    1  22.0      1      0   7.2500         2      0\n",
      "1       1    0  38.0      1      0  71.2833         0      0\n",
      "2       3    0  26.0      0      0   7.9250         2      1\n",
      "3       1    0  35.0      1      0  53.1000         2      0\n",
      "4       3    1  35.0      0      0   8.0500         2      1\n",
      "(891, 1)\n",
      "(891, 8)\n",
      "(891, 9)\n"
     ]
    }
   ],
   "source": [
    "Y = titanic[['survived']]\n",
    "X = titanic.drop(['survived'], axis=1)\n",
    "print(Y.head())\n",
    "print(X.head())\n",
    "print(Y.shape)\n",
    "print(X.shape)\n",
    "print(titanic.shape)"
   ]
  },
  {
   "cell_type": "markdown",
   "metadata": {},
   "source": [
    "**1)** Train a logistic regression model on the titanic dataset predicting survivors first using a 20-80% test_train_split and print the accuracy of your model using 5 different random seeds.\n"
   ]
  },
  {
   "cell_type": "code",
   "execution_count": 3,
   "metadata": {},
   "outputs": [
    {
     "name": "stdout",
     "output_type": "stream",
     "text": [
      "random\n",
      "seed\tAccuracy\n",
      "\n",
      "111 \t 79.3296089385475\n",
      "657 \t 79.3296089385475\n",
      "874 \t 81.56424581005587\n",
      "420 \t 81.00558659217877\n",
      "679 \t 78.2122905027933\n"
     ]
    }
   ],
   "source": [
    "#import pandas as pd\n",
    "from sklearn import model_selection\n",
    "from sklearn.linear_model import LogisticRegression\n",
    "\n",
    "\n",
    "\n",
    "seeds = np.random.randint(0, 999, 5)\n",
    "test_size = 0.2 \n",
    "\n",
    "print('random\\nseed\\tAccuracy\\n')\n",
    "for seed in seeds:\n",
    "    X_train, X_test, Y_train, Y_test = model_selection.train_test_split(X, Y, test_size=test_size, random_state=seed)\n",
    "\n",
    "    model = LogisticRegression()\n",
    "\n",
    "    model.fit(X_train, np.ravel(Y_train))\n",
    "    result = model.score(X_test, Y_test)\n",
    "    #f\"{seed} == seed | Accuracy: {result*100.0:.3f}\" #  :.3f limits the decimal places to 3\n",
    "    print(seed, '\\t', result*100.0)\n",
    "    "
   ]
  },
  {
   "cell_type": "markdown",
   "metadata": {},
   "source": [
    "**2)** Use 5-fold Cross Validation on the titanic dataset. Print out the accuracies from each of the 5 folds of the cross validation, then print the final mean and standard deviation of those cross validation accuracies. How do the accuracies on each of the inidvidual folds compare to the accuracies of the test_train_split approach? Is the variance in accuracies of the cross-validation approach higher or lower than the variance of the test_train_split approach? \n"
   ]
  },
  {
   "cell_type": "code",
   "execution_count": 4,
   "metadata": {},
   "outputs": [
    {
     "name": "stdout",
     "output_type": "stream",
     "text": [
      "\n",
      " 5-fold Cross Validation\n",
      "random seeds:  [111 657 874 420 679] \n",
      "\n",
      "Accuracy: 79.126% (2.707%)\n",
      "Accuracy: 79.126% (2.707%)\n",
      "Accuracy: 79.126% (2.707%)\n",
      "Accuracy: 79.126% (2.707%)\n",
      "Accuracy: 79.126% (2.707%)\n"
     ]
    }
   ],
   "source": [
    "# Evaluate using Cross Validation\n",
    "\n",
    "from sklearn.linear_model import LogisticRegression\n",
    "\n",
    "print('\\n 5-fold Cross Validation')\n",
    "print('random seeds: ', seeds, '\\n')\n",
    "\n",
    "for seed in seeds:\n",
    "    num_instances = len(X)\n",
    "\n",
    "    kfold = model_selection.KFold(n_splits=5, random_state=seed)\n",
    "\n",
    "    model = LogisticRegression()\n",
    "    results = model_selection.cross_val_score(model, X, np.ravel(Y), cv=kfold)\n",
    "    #f\"Accuracy: {results.mean()*100.0:.3f} ({results.std()*100.0:.3f})\"\n",
    "    print(\"Accuracy: %.3f%% (%.3f%%)\" % (results.mean()*100.0, results.std()*100.0))\n"
   ]
  },
  {
   "cell_type": "markdown",
   "metadata": {},
   "source": [
    "### It appears that the 20% Test 80% Train test set is more accurate than the 5 Fold Cross Validation"
   ]
  },
  {
   "cell_type": "markdown",
   "metadata": {},
   "source": [
    "**3)** Try using 3-fold Cross Validation as well as 10-fold cross validation. How does the number of folds in the cross-validation process affect the outcome? How many folds should be used?\n"
   ]
  },
  {
   "cell_type": "code",
   "execution_count": 5,
   "metadata": {},
   "outputs": [
    {
     "name": "stdout",
     "output_type": "stream",
     "text": [
      "\n",
      " 3-fold Cross Validation\n",
      "random seeds:  [111 657 874 420 679] \n",
      "\n",
      "Accuracy: 78.900% (0.420%)\n",
      "Accuracy: 78.900% (0.420%)\n",
      "Accuracy: 78.900% (0.420%)\n",
      "Accuracy: 78.900% (0.420%)\n",
      "Accuracy: 78.900% (0.420%)\n"
     ]
    }
   ],
   "source": [
    "print('\\n 3-fold Cross Validation')\n",
    "print('random seeds: ', seeds, '\\n')\n",
    "\n",
    "for seed in seeds:\n",
    "    num_instances = len(X)\n",
    "\n",
    "    kfold = model_selection.KFold(n_splits=3, random_state=seed)\n",
    "\n",
    "    model = LogisticRegression()\n",
    "    results = model_selection.cross_val_score(model, X, np.ravel(Y), cv=kfold)\n",
    "    #f\"Accuracy: {results.mean()*100.0:.3f} ({results.std()*100.0:.3f})\"\n",
    "    print(\"Accuracy: %.3f%% (%.3f%%)\" % (results.mean()*100.0, results.std()*100.0))\n"
   ]
  },
  {
   "cell_type": "code",
   "execution_count": 6,
   "metadata": {},
   "outputs": [
    {
     "name": "stdout",
     "output_type": "stream",
     "text": [
      "\n",
      " 10-fold Cross Validation\n",
      "random seeds:  [111 657 874 420 679] \n",
      "\n",
      "Accuracy: 79.464% (3.497%)\n",
      "Accuracy: 79.464% (3.497%)\n",
      "Accuracy: 79.464% (3.497%)\n",
      "Accuracy: 79.464% (3.497%)\n",
      "Accuracy: 79.464% (3.497%)\n"
     ]
    }
   ],
   "source": [
    "print('\\n 10-fold Cross Validation')\n",
    "print('random seeds: ', seeds, '\\n')\n",
    "\n",
    "for seed in seeds:\n",
    "    num_instances = len(X)\n",
    "\n",
    "    kfold = model_selection.KFold(n_splits=10, random_state=seed)\n",
    "\n",
    "    model = LogisticRegression()\n",
    "    results = model_selection.cross_val_score(model, X, np.ravel(Y), cv=kfold)\n",
    "    #f\"Accuracy: {results.mean()*100.0:.3f} ({results.std()*100.0:.3f})\"\n",
    "    print(\"Accuracy: %.3f%% (%.3f%%)\" % (results.mean()*100.0, results.std()*100.0))\n"
   ]
  },
  {
   "cell_type": "markdown",
   "metadata": {},
   "source": [
    "### The standard deviation is lowest with the 3-fold Cross Validation while the accuracy his highest with the 10 fold cross validation but it is less then 1% more accurate while the standard deviation is 3% lower with the 3-fold cross validation. \n",
    "\n",
    "### I would go with the 3-fold cross validation because of the smaller standard deviation"
   ]
  },
  {
   "cell_type": "code",
   "execution_count": null,
   "metadata": {},
   "outputs": [],
   "source": []
  },
  {
   "cell_type": "code",
   "execution_count": null,
   "metadata": {},
   "outputs": [],
   "source": []
  },
  {
   "cell_type": "markdown",
   "metadata": {
    "colab_type": "text",
    "id": "1qRSmAPZo0Qr"
   },
   "source": [
    "# Part Two: Hyperparameter Tuning\n",
    "\n",
    "An important technique for improving the accuracy of a machine learning model is to undertake a process known as Hyperparameter Tuning or Hyperparameter Optimization. In order to understand this process, we first need to understand the difference between a model parameter and a model hyperparameter. \n",
    "\n",
    "### What is a model parameter?\n",
    "\n",
    "A model parameter is a value that is generated by fitting our model to training data and is key to generating predictions with that model. They are **internal** to our model and we often are trying to estimate them as best as possible when we train the algorithm. \n",
    "\n",
    "For example, the parameters of a linear regression model would be its intercept value as well as the coefficient values on each of the X variables. Estimates of these crucial values (parameters) are obtained by fitting to the training data, perfectly define the model, are internal to the model, and are key to generating predictions. They are model parameters in every sense. \n",
    "\n",
    "### What is a model hyperparameter?\n",
    "\n",
    "Hyperparameters are values that are key to how well our algorithm runs, yet are **external** to our model and cannot be estimated from the training process. They are more like settings for our algorithm which must be designated before it is run and impact its performance. Here is some further reading:\n",
    "\n",
    "[Hyperparamters explanation on Quora](https://www.quora.com/What-are-hyperparameters-in-machine-learning)\n",
    "\n",
    "[Jason Brownlee Article on the difference between Parameters and Hyperparameters](https://machinelearningmastery.com/difference-between-a-parameter-and-a-hyperparameter/)\n",
    "\n",
    "### How do we find the best hyperparameters?\n",
    "\n",
    "Since we can't learn the best hyperparameters for our model from the data, we essentially just pick values and see which ones lead to the highest accuracy. This can be a tedious and complex process especially for certain models like neural networks which can have dozens of hyperparameters. We will get you familiar with the process using a more simple logistic regression model. \n",
    "\n",
    "### How do you know what hyperparameters exist for your particular model? \n",
    "\n",
    "Most models/libraries have default hyperparameters that will be used if we don't specify them. In the model selection process you might try out multiple models on a dataset and see which one gets you the highest out-of-the-box performance, (using the default hyperparameters) and then pick a couple of the highest performing algorithms and attempt hyperparameter tuning on them to compare how different models benefit from this process. Once you have narrowed down the models that you would like to tune, a quick google search can tell you what hyperparameters exist for that algorithm. \n",
    "\n",
    "Often you can learn about potential hyperparameters by looking at the documentation for a given algorithm in a library, here's the documentation for sklearn's logistic regression, see if you can spot the hyperparameters:\n",
    "\n",
    "[scikit-learn logistic regression docs](http://scikit-learn.org/stable/modules/generated/sklearn.linear_model.LogisticRegressionCV.html)\n",
    "\n"
   ]
  },
  {
   "cell_type": "markdown",
   "metadata": {
    "colab_type": "text",
    "id": "wADqKJAgSqgI"
   },
   "source": [
    "## DO THIS: \n",
    "\n",
    "Lets hyperparameter tune our **titanic** predictions using 5-fold cross validation to compare the accuracy of our tuned models. \n",
    "\n",
    "### Manual Hyperparameter Tuning:\n",
    "\n",
    "For our assignment today we are going to tune the 'C value' also known as the 'regularization strength' of our logistic regression as well as 'penalty' of our logistic regression algorithm.\n",
    "\n",
    "Read up on the regularlization strength and penalty of a logistic regression function. What might be some good values to test out? Hint: Look at the parameter definitions on the sci-kit learn logistic regression documentation. \n",
    "\n",
    "[scikit-learn logistic regression docs](http://scikit-learn.org/stable/modules/generated/sklearn.linear_model.LogisticRegressionCV.html)\n",
    "\n",
    "[Regularization in Logistic Regression](https://www.kdnuggets.com/2016/06/regularization-logistic-regression.html)\n",
    "\n",
    "Fit your model 5 different times using 5 different C values of your choosing. Which value gives the highest accuracy? \n",
    "\n",
    "There are only two penalty values that we can use. Evaluate the model two more times using each penalty once. Which penalty gives the highest accuracy?"
   ]
  },
  {
   "cell_type": "code",
   "execution_count": 7,
   "metadata": {
    "colab": {
     "base_uri": "https://localhost:8080/",
     "height": 34
    },
    "colab_type": "code",
    "id": "UJujhJnetnr3",
    "outputId": "d1269a01-5911-4228-8aae-db83529a4dfc"
   },
   "outputs": [
    {
     "name": "stdout",
     "output_type": "stream",
     "text": [
      "[0.75974026 0.72727273 0.76623377 0.83006536 0.76470588]\n"
     ]
    }
   ],
   "source": [
    "# The sample code below uses the Pima Indans Diabetes Dataset. \n",
    "# Here we are setting the C value hyperparameter to 1 and the penalty hyperparameter to \"l1\". \n",
    "# You can designate your hyperparameters in a similar fashion.\n",
    "\n",
    "import pandas\n",
    "from sklearn import model_selection\n",
    "from sklearn.linear_model import LogisticRegression\n",
    "url = \"https://raw.githubusercontent.com/jbrownlee/Datasets/master/pima-indians-diabetes.data.csv\"\n",
    "names = ['preg', 'plas', 'pres', 'skin', 'test', 'mass', 'pedi', 'age', 'class']\n",
    "dataframe = pandas.read_csv(url, names=names)\n",
    "array = dataframe.values\n",
    "Xd = array[:,0:8]\n",
    "Yd = array[:,8]\n",
    "num_instances = len(Xd)\n",
    "seed = 7\n",
    "kfold = model_selection.KFold(n_splits=5, random_state=seed)\n",
    "model = LogisticRegression(C=1, penalty='l1') ##### This is the important line\n",
    "results = model_selection.cross_val_score(model, Xd, Yd, cv=kfold)\n",
    "print(results)"
   ]
  },
  {
   "cell_type": "code",
   "execution_count": 8,
   "metadata": {
    "colab": {},
    "colab_type": "code",
    "id": "aq8mXV2rbWCS"
   },
   "outputs": [
    {
     "name": "stdout",
     "output_type": "stream",
     "text": [
      "\n",
      " 5-fold Cross Validation\n",
      "[0.62569832 0.70786517 0.64044944 0.66292135 0.70786517]\n",
      "[0.79888268 0.80337079 0.7752809  0.74719101 0.82022472]\n",
      "[0.78212291 0.78651685 0.78651685 0.75842697 0.83146067]\n",
      "[0.78212291 0.78089888 0.78651685 0.76404494 0.83707865]\n",
      "[0.78212291 0.7752809  0.78651685 0.76404494 0.84269663]\n"
     ]
    }
   ],
   "source": [
    "print('\\n 5-fold Cross Validation')\n",
    "#print('random seeds: ', seeds, '\\n')\n",
    "\n",
    "cz = [0.01,0.1,1,10,100]\n",
    "\n",
    "for c in cz:\n",
    "    num_instances = len(X)\n",
    "\n",
    "    kfold = model_selection.KFold(n_splits=5, random_state=7)\n",
    "\n",
    "    model = LogisticRegression(C=c, penalty='l1')\n",
    "    results = model_selection.cross_val_score(model, X, np.ravel(Y), cv=kfold)\n",
    "    #f\"Accuracy: {results.mean()*100.0:.3f} ({results.std()*100.0:.3f})\"\n",
    "    #print(\"Accuracy: %.3f%% (%.3f%%)\" % (results.mean()*100.0, results.std()*100.0))\n",
    "    print(results)"
   ]
  },
  {
   "cell_type": "code",
   "execution_count": 9,
   "metadata": {},
   "outputs": [
    {
     "name": "stdout",
     "output_type": "stream",
     "text": [
      "\n",
      " 5-fold Cross Validation\n",
      "[0.68156425 0.70224719 0.68539326 0.69101124 0.76966292]\n",
      "[0.79888268 0.80337079 0.76966292 0.75842697 0.83707865]\n",
      "[0.78212291 0.80337079 0.7752809  0.75842697 0.83707865]\n",
      "[0.78212291 0.78089888 0.78651685 0.76404494 0.83146067]\n",
      "[0.78212291 0.78089888 0.78651685 0.76404494 0.84269663]\n"
     ]
    }
   ],
   "source": [
    "print('\\n 5-fold Cross Validation')\n",
    "#print('random seeds: ', seeds, '\\n')\n",
    "\n",
    "cz = [0.01,0.1,1,10,100]\n",
    "\n",
    "for c in cz:\n",
    "    #num_instances = len(X)\n",
    "\n",
    "    kfold = model_selection.KFold(n_splits=5, random_state=7)\n",
    "\n",
    "    model = LogisticRegression(C=c, penalty='l2')\n",
    "    results = model_selection.cross_val_score(model, X, np.ravel(Y), cv=kfold)\n",
    "    #f\"Accuracy: {results.mean()*100.0:.3f} ({results.std()*100.0:.3f})\"\n",
    "    #print(\"Accuracy: %.3f%% (%.3f%%)\" % (results.mean()*100.0, results.std()*100.0))\n",
    "    print(results)"
   ]
  },
  {
   "cell_type": "markdown",
   "metadata": {
    "colab_type": "text",
    "id": "CrwljGvubkpv"
   },
   "source": [
    "### 1) Grid-Search Hyperparameter Tuning:\n",
    "\n",
    "Imagine that your algorithm has 12 different potential hyperparameters and each them can take on 5 different values. Lets say that it takes your laptop 4 seconds to fit each fold of cross validation. For each 5-fold cross-validation it would then take 20 seconds to fit your model and get an accuracy reading reported back. Now imagine that you want to test every possible combination of hyperparameters on your algorithm to get the absolute highest accuracy. You can see how this might become exceedingly tedious and time-consuming to perform by hand. Some hyperparameters (like the C value) have much more than 5 potential values, making hyperparameter tuning a huge task. \n",
    "\n",
    "It is for this reason that more advanced optimization techniques exist, one of which we will be exploring today called GridSearch.\n",
    "\n",
    "### What does GridSearch do?\n",
    "\n",
    "GridSearch takes a dictionary of all of the different hyperparameters that you want to test, and then feeds all of the different combinations through the algorithm for you and then reports back to you which one had the highest accuracy. Pretty slick right? \n",
    "\n",
    "Here is some boilerplate code you can reference to create your implementations:\n",
    "\n",
    "[Chris Albon Logistic Regression sklearn Hyperparameter Tuning with GridSearch](https://chrisalbon.com/machine_learning/model_selection/hyperparameter_tuning_using_grid_search/)"
   ]
  },
  {
   "cell_type": "code",
   "execution_count": 10,
   "metadata": {
    "colab": {},
    "colab_type": "code",
    "id": "dCZLjm7JjTwh"
   },
   "outputs": [],
   "source": [
    "# These import statements might be useful to you. \n",
    "import numpy as np\n",
    "from sklearn.model_selection import GridSearchCV"
   ]
  },
  {
   "cell_type": "code",
   "execution_count": 11,
   "metadata": {
    "colab": {},
    "colab_type": "code",
    "id": "sb4F7GlnjIvl"
   },
   "outputs": [],
   "source": [
    "# Create logistic regression object\n",
    "kfold = model_selection.KFold(n_splits=5, random_state=7)\n",
    "model = LogisticRegression()"
   ]
  },
  {
   "cell_type": "code",
   "execution_count": 12,
   "metadata": {
    "colab": {},
    "colab_type": "code",
    "id": "nrrfWSJOey0J"
   },
   "outputs": [],
   "source": [
    "# Create a list of all of the different penalty values that you want to test and save them to a variable called 'penalty'\n",
    "penalty = ['l1', 'l2']\n"
   ]
  },
  {
   "cell_type": "code",
   "execution_count": 13,
   "metadata": {
    "colab": {},
    "colab_type": "code",
    "id": "-m1rVmNwfbSH"
   },
   "outputs": [],
   "source": [
    "# Create a list of all of the different C values that you want to test and save them to a variable called 'C'\n",
    "\n",
    "C = np.logspace(1, 10, 5)\n"
   ]
  },
  {
   "cell_type": "code",
   "execution_count": 14,
   "metadata": {
    "colab": {},
    "colab_type": "code",
    "id": "hy-B_Wm3fz-4"
   },
   "outputs": [],
   "source": [
    "# Now that you have two lists each holding the different values that you want test, use the dict() function to combine them into a dictionary. \n",
    "# Save your new dictionary to the variable 'hyperparameters'\n",
    "# Print out the dictionary if you're curious as to what it euds up looking like.\n",
    "hyperparameters = dict(C=C, penalty=penalty)"
   ]
  },
  {
   "cell_type": "code",
   "execution_count": 15,
   "metadata": {
    "colab": {},
    "colab_type": "code",
    "id": "v619p6o4j9-3"
   },
   "outputs": [],
   "source": [
    "# Fit your model using gridsearch\n",
    "#clf = GridSearchCV(model, hyperparameters, cv=kfold, verbose=0)\n",
    "clf = GridSearchCV(model, hyperparameters, cv=5, verbose=0)\n"
   ]
  },
  {
   "cell_type": "code",
   "execution_count": 16,
   "metadata": {},
   "outputs": [],
   "source": [
    "best_model = clf.fit(X, np.ravel(Y))"
   ]
  },
  {
   "cell_type": "code",
   "execution_count": 19,
   "metadata": {
    "colab": {},
    "colab_type": "code",
    "id": "3aUuCQH4gdBc"
   },
   "outputs": [
    {
     "name": "stdout",
     "output_type": "stream",
     "text": [
      "Best C: 10.0\n"
     ]
    }
   ],
   "source": [
    "# Print the best penalty and C value from best_model.best_estimator_.get_params()\n",
    "\n",
    "#print('Best Penalty:', best_model.best_estimator_.get_params()['penalty'])\n",
    "print('Best C:', best_model.best_estimator_.get_params()['C'])"
   ]
  },
  {
   "cell_type": "code",
   "execution_count": 20,
   "metadata": {
    "colab": {},
    "colab_type": "code",
    "id": "IqG4tPaQkKgz"
   },
   "outputs": [
    {
     "data": {
      "text/plain": [
       "array([0, 1, 1, 1, 0, 0, 0, 0, 1, 1, 1, 1, 0, 0, 1, 1, 0, 0, 1, 1, 0, 0,\n",
       "       1, 0, 0, 0, 0, 0, 1, 0, 0, 1, 1, 0, 1, 0, 0, 0, 1, 1, 1, 1, 0, 1,\n",
       "       1, 0, 0, 1, 0, 1, 0, 0, 1, 1, 0, 0, 1, 0, 1, 0, 0, 1, 0, 0, 1, 0,\n",
       "       1, 0, 0, 0, 0, 0, 0, 0, 0, 0, 0, 0, 0, 1, 0, 0, 1, 0, 1, 0, 0, 0,\n",
       "       1, 0, 0, 0, 0, 0, 0, 0, 0, 1, 1, 0, 1, 0, 1, 0, 0, 0, 1, 0, 0, 1,\n",
       "       0, 1, 0, 1, 1, 0, 0, 0, 1, 0, 0, 0, 0, 1, 0, 0, 0, 0, 1, 0, 0, 0,\n",
       "       1, 1, 0, 0, 1, 0, 0, 1, 1, 1, 1, 0, 0, 0, 0, 1, 0, 0, 0, 1, 0, 0,\n",
       "       0, 0, 1, 0, 0, 0, 0, 1, 0, 0, 0, 0, 1, 0, 0, 0, 0, 0, 1, 0, 0, 0,\n",
       "       0, 1, 0, 0, 0, 0, 0, 0, 1, 1, 1, 0, 0, 0, 1, 0, 1, 0, 1, 1, 0, 0,\n",
       "       1, 1, 0, 0, 0, 0, 0, 1, 0, 0, 1, 0, 0, 1, 0, 0, 0, 1, 1, 0, 1, 0,\n",
       "       0, 0, 0, 0, 0, 0, 0, 0, 0, 0, 1, 0, 0, 0, 0, 1, 0, 1, 0, 0, 1, 1,\n",
       "       0, 0, 0, 0, 1, 1, 0, 0, 0, 1, 0, 0, 1, 1, 1, 1, 1, 1, 0, 0, 0, 0,\n",
       "       1, 0, 0, 0, 1, 1, 0, 0, 1, 1, 1, 1, 0, 0, 0, 1, 0, 0, 0, 0, 1, 0,\n",
       "       0, 0, 0, 1, 1, 1, 0, 1, 0, 1, 0, 1, 1, 1, 0, 0, 0, 1, 0, 1, 1, 1,\n",
       "       0, 1, 1, 1, 1, 0, 0, 1, 1, 0, 1, 1, 0, 0, 1, 1, 0, 1, 0, 1, 1, 1,\n",
       "       1, 0, 1, 0, 1, 0, 0, 1, 0, 0, 0, 1, 0, 0, 0, 1, 1, 1, 0, 0, 0, 0,\n",
       "       0, 0, 0, 0, 1, 1, 1, 1, 0, 0, 1, 0, 0, 0, 1, 0, 0, 1, 1, 0, 0, 1,\n",
       "       1, 1, 1, 1, 0, 0, 1, 1, 0, 1, 0, 0, 0, 1, 0, 1, 0, 0, 0, 1, 1, 0,\n",
       "       1, 0, 0, 1, 0, 0, 1, 0, 1, 0, 0, 0, 0, 0, 0, 0, 1, 0, 0, 0, 1, 1,\n",
       "       0, 1, 0, 0, 0, 1, 0, 0, 1, 1, 0, 0, 0, 1, 1, 0, 0, 1, 0, 1, 0, 0,\n",
       "       1, 0, 0, 1, 0, 1, 1, 0, 1, 0, 0, 0, 1, 0, 0, 0, 0, 1, 1, 0, 0, 0,\n",
       "       0, 0, 0, 0, 0, 0, 0, 1, 0, 0, 1, 1, 1, 0, 0, 0, 0, 1, 0, 0, 0, 0,\n",
       "       1, 0, 1, 0, 0, 0, 0, 0, 0, 0, 0, 0, 1, 0, 1, 0, 0, 1, 1, 1, 1, 1,\n",
       "       1, 0, 0, 0, 0, 0, 0, 1, 0, 0, 1, 0, 1, 0, 1, 0, 0, 1, 0, 0, 1, 0,\n",
       "       0, 0, 1, 0, 0, 1, 1, 1, 0, 1, 0, 1, 1, 0, 0, 0, 0, 0, 1, 0, 0, 0,\n",
       "       1, 0, 0, 0, 1, 0, 1, 0, 1, 1, 0, 0, 0, 0, 1, 0, 0, 1, 0, 0, 0, 1,\n",
       "       0, 1, 0, 0, 1, 1, 1, 0, 1, 1, 0, 0, 0, 1, 0, 0, 0, 0, 0, 1, 0, 1,\n",
       "       0, 0, 1, 0, 0, 0, 1, 0, 0, 0, 0, 0, 0, 0, 1, 1, 0, 0, 1, 0, 0, 1,\n",
       "       0, 1, 1, 0, 0, 0, 0, 0, 0, 0, 0, 1, 0, 0, 0, 0, 0, 0, 0, 1, 0, 0,\n",
       "       0, 0, 0, 1, 0, 0, 1, 0, 0, 0, 0, 1, 0, 1, 0, 1, 1, 0, 0, 1, 0, 0,\n",
       "       0, 0, 0, 0, 0, 0, 0, 0, 0, 1, 1, 0, 0, 0, 0, 0, 0, 1, 0, 1, 1, 1,\n",
       "       0, 0, 0, 0, 0, 0, 0, 1, 0, 1, 0, 0, 0, 0, 0, 1, 0, 0, 1, 0, 1, 0,\n",
       "       0, 0, 1, 0, 1, 0, 1, 0, 0, 0, 0, 0, 1, 1, 0, 0, 1, 0, 0, 0, 1, 0,\n",
       "       1, 1, 0, 1, 1, 0, 0, 0, 0, 0, 0, 1, 0, 0, 0, 0, 1, 0, 0, 0, 0, 1,\n",
       "       1, 0, 1, 0, 0, 0, 1, 0, 0, 0, 0, 1, 0, 0, 0, 1, 0, 1, 0, 1, 0, 0,\n",
       "       0, 0, 1, 0, 1, 0, 0, 1, 0, 1, 1, 1, 0, 0, 0, 0, 1, 0, 0, 0, 0, 0,\n",
       "       0, 1, 0, 0, 1, 1, 0, 1, 0, 1, 1, 0, 0, 0, 0, 1, 0, 1, 0, 0, 0, 0,\n",
       "       0, 0, 1, 0, 0, 0, 1, 0, 0, 1, 0, 0, 0, 1, 0, 1, 1, 0, 0, 0, 0, 1,\n",
       "       0, 0, 0, 0, 0, 0, 1, 0, 0, 0, 0, 0, 0, 1, 0, 0, 1, 1, 1, 1, 1, 0,\n",
       "       1, 0, 0, 0, 1, 0, 0, 1, 1, 0, 0, 0, 0, 1, 0, 0, 1, 1, 0, 0, 0, 1,\n",
       "       1, 0, 1, 0, 0, 0, 0, 1, 1, 1, 0])"
      ]
     },
     "execution_count": 20,
     "metadata": {},
     "output_type": "execute_result"
    }
   ],
   "source": [
    "# Print out all of the different combinations of your grid search values and their corresponding accuracies.\n",
    "# https://stackoverflow.com/questions/22155953/how-to-print-out-an-accuracy-score-for-each-combination-within-gridsearch\n",
    "best_model.predict(X)"
   ]
  },
  {
   "cell_type": "code",
   "execution_count": 22,
   "metadata": {},
   "outputs": [
    {
     "name": "stdout",
     "output_type": "stream",
     "text": [
      "{'mean_fit_time': array([0.01547661, 0.00605311, 0.01077943, 0.0060544 , 0.01046462,\n",
      "       0.00655975, 0.01174746, 0.00656991, 0.01036062, 0.00626678]),\n",
      " 'mean_score_time': array([0.00073004, 0.00059633, 0.00059767, 0.00051832, 0.00062013,\n",
      "       0.00057187, 0.00065579, 0.0005619 , 0.00062051, 0.00057712]),\n",
      " 'mean_test_score': array([0.78787879, 0.78787879, 0.78787879, 0.78787879, 0.78787879,\n",
      "       0.78787879, 0.78787879, 0.78787879, 0.78787879, 0.78787879]),\n",
      " 'mean_train_score': array([0.80275525, 0.80219188, 0.80303575, 0.80303575, 0.80303575,\n",
      "       0.80303575, 0.80303575, 0.80303575, 0.80303575, 0.80303575]),\n",
      " 'param_C': masked_array(data=[10.0, 10.0, 1778.2794100389228, 1778.2794100389228,\n",
      "                   316227.7660168379, 316227.7660168379,\n",
      "                   56234132.51903491, 56234132.51903491, 10000000000.0,\n",
      "                   10000000000.0],\n",
      "             mask=[False, False, False, False, False, False, False, False,\n",
      "                   False, False],\n",
      "       fill_value='?',\n",
      "            dtype=object),\n",
      " 'param_penalty': masked_array(data=['l1', 'l2', 'l1', 'l2', 'l1', 'l2', 'l1', 'l2', 'l1',\n",
      "                   'l2'],\n",
      "             mask=[False, False, False, False, False, False, False, False,\n",
      "                   False, False],\n",
      "       fill_value='?',\n",
      "            dtype=object),\n",
      " 'params': [{'C': 10.0, 'penalty': 'l1'},\n",
      "            {'C': 10.0, 'penalty': 'l2'},\n",
      "            {'C': 1778.2794100389228, 'penalty': 'l1'},\n",
      "            {'C': 1778.2794100389228, 'penalty': 'l2'},\n",
      "            {'C': 316227.7660168379, 'penalty': 'l1'},\n",
      "            {'C': 316227.7660168379, 'penalty': 'l2'},\n",
      "            {'C': 56234132.51903491, 'penalty': 'l1'},\n",
      "            {'C': 56234132.51903491, 'penalty': 'l2'},\n",
      "            {'C': 10000000000.0, 'penalty': 'l1'},\n",
      "            {'C': 10000000000.0, 'penalty': 'l2'}],\n",
      " 'rank_test_score': array([1, 1, 1, 1, 1, 1, 1, 1, 1, 1], dtype=int32),\n",
      " 'split0_test_score': array([0.77094972, 0.77094972, 0.77094972, 0.77094972, 0.77094972,\n",
      "       0.77094972, 0.77094972, 0.77094972, 0.77094972, 0.77094972]),\n",
      " 'split0_train_score': array([0.80898876, 0.80617978, 0.80898876, 0.80898876, 0.80898876,\n",
      "       0.80898876, 0.80898876, 0.80898876, 0.80898876, 0.80898876]),\n",
      " 'split1_test_score': array([0.78212291, 0.78212291, 0.78212291, 0.78212291, 0.78212291,\n",
      "       0.78212291, 0.78212291, 0.78212291, 0.78212291, 0.78212291]),\n",
      " 'split1_train_score': array([0.80758427, 0.80477528, 0.80758427, 0.80758427, 0.80758427,\n",
      "       0.80758427, 0.80758427, 0.80758427, 0.80758427, 0.80758427]),\n",
      " 'split2_test_score': array([0.79213483, 0.79213483, 0.79213483, 0.79213483, 0.79213483,\n",
      "       0.79213483, 0.79213483, 0.79213483, 0.79213483, 0.79213483]),\n",
      " 'split2_train_score': array([0.79943899, 0.80084151, 0.80084151, 0.80084151, 0.80084151,\n",
      "       0.80084151, 0.80084151, 0.80084151, 0.80084151, 0.80084151]),\n",
      " 'split3_test_score': array([0.78089888, 0.78089888, 0.78651685, 0.78651685, 0.78651685,\n",
      "       0.78651685, 0.78651685, 0.78651685, 0.78651685, 0.78651685]),\n",
      " 'split3_train_score': array([0.80364656, 0.80224404, 0.80364656, 0.80364656, 0.80364656,\n",
      "       0.80364656, 0.80364656, 0.80364656, 0.80364656, 0.80364656]),\n",
      " 'split4_test_score': array([0.81355932, 0.81355932, 0.8079096 , 0.8079096 , 0.8079096 ,\n",
      "       0.8079096 , 0.8079096 , 0.8079096 , 0.8079096 , 0.8079096 ]),\n",
      " 'split4_train_score': array([0.79411765, 0.79691877, 0.79411765, 0.79411765, 0.79411765,\n",
      "       0.79411765, 0.79411765, 0.79411765, 0.79411765, 0.79411765]),\n",
      " 'std_fit_time': array([0.00491387, 0.00017205, 0.00095606, 0.00024636, 0.00113076,\n",
      "       0.00082281, 0.00299473, 0.00104715, 0.00145885, 0.00043733]),\n",
      " 'std_score_time': array([9.04902005e-05, 7.82240276e-05, 7.24052378e-05, 1.28560462e-05,\n",
      "       9.50807793e-05, 7.30874244e-05, 1.02053579e-04, 7.63200775e-05,\n",
      "       4.56153003e-05, 6.54943431e-05]),\n",
      " 'std_test_score': array([0.01444275, 0.01444275, 0.01216254, 0.01216254, 0.01216254,\n",
      "       0.01216254, 0.01216254, 0.01216254, 0.01216254, 0.01216254]),\n",
      " 'std_train_score': array([0.00545117, 0.00323138, 0.0053075 , 0.0053075 , 0.0053075 ,\n",
      "       0.0053075 , 0.0053075 , 0.0053075 , 0.0053075 , 0.0053075 ])}\n"
     ]
    }
   ],
   "source": [
    "from pprint import pprint\n",
    "pprint(clf.cv_results_)"
   ]
  },
  {
   "cell_type": "markdown",
   "metadata": {
    "colab_type": "text",
    "id": "IwOTSHaUkd8J"
   },
   "source": [
    "What hyperparameters give you the highest accuracy? Keep on testing diferent values and report the hyperparameters that give you the highest accuracy."
   ]
  },
  {
   "cell_type": "markdown",
   "metadata": {
    "colab_type": "text",
    "id": "r-ctaux7qOzv"
   },
   "source": [
    "# Stretch Goals:\n",
    "\n",
    "Explore more advanced automated approaches to hyperparameter tuning. Try and implemenet a random search approach: \n",
    "\n",
    "[Random Search Hyperparameter Tuning](https://machinelearningmastery.com/how-to-tune-algorithm-parameters-with-scikit-learn/)\n",
    "\n",
    "Then try a Bayesian Optimization Approach:\n",
    "\n",
    "[Bayesian Optimization](https://thuijskens.github.io/2016/12/29/bayesian-optimisation/)\n",
    "\n",
    "[scikit-optimize](https://scikit-optimize.github.io/notebooks/bayesian-optimization.html)\n",
    "\n",
    "[optunity](http://optunity.readthedocs.io/en/latest/notebooks/notebooks/sklearn-automated-classification.html)\n",
    "\n",
    "You could also try writing a blog post to show how well you understand Cross Validation or Hyperparameter Tuning, both are key concepts to practicing machine learning and would be valuable to demonstrate proficency in.\n"
   ]
  }
 ],
 "metadata": {
  "colab": {
   "name": "Model Tuning Assignment.ipynb",
   "provenance": [],
   "version": "0.3.2"
  },
  "kernelspec": {
   "display_name": "Python 3",
   "language": "python",
   "name": "python3"
  },
  "language_info": {
   "codemirror_mode": {
    "name": "ipython",
    "version": 3
   },
   "file_extension": ".py",
   "mimetype": "text/x-python",
   "name": "python",
   "nbconvert_exporter": "python",
   "pygments_lexer": "ipython3",
   "version": "3.6.4"
  }
 },
 "nbformat": 4,
 "nbformat_minor": 2
}
