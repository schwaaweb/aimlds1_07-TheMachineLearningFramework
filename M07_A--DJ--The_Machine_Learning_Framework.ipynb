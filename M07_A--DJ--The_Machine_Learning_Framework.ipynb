{
 "cells": [
  {
   "cell_type": "markdown",
   "metadata": {
    "colab_type": "text",
    "id": "view-in-github"
   },
   "source": [
    "[View in Colaboratory](https://colab.research.google.com/github/schwaaweb/aimlds1_07-TheMachineLearningFramework/blob/master/M07_A--DJ--The_Machine_Learning_Framework.ipynb)"
   ]
  },
  {
   "cell_type": "markdown",
   "metadata": {
    "colab_type": "text",
    "id": "8UORNq1nmNgV"
   },
   "source": [
    "# The Machine Learning Framework:\n",
    "\n",
    "By the end of this assignment, I hope you begin to feel like a real data scientist. \n",
    "\n",
    "For your assignment I have obtained a dataset of 3333 records of cell phone user data. Your mission -should you choose to accept it- is to train a model that can predict whether or not a user \"churns\" -cancels their plan at the end of the month. \n",
    "\n",
    "The purpose of this assignment is for you to familiarize yourself with what we call **The Machine Learning Framework**:\n",
    "\n",
    "![The Machine Learning Framework](http://www.ryanleeallred.com/wp-content/uploads/2018/05/machine-learning-framework-1.png)\n",
    "\n",
    "This will be one of your first opportunities to go from A-Z on a project. What's exciting about this assignment is that you are free to do whatever you think will get you the best performing classifier using the Machine Learning Framework as a guide. \n",
    "\n",
    "What is also exciting about this assignment is that we will be using a private Kaggle competition to score your models!"
   ]
  },
  {
   "cell_type": "markdown",
   "metadata": {
    "colab_type": "text",
    "id": "i_eoSXCjNT2w"
   },
   "source": [
    "## The Process: \n",
    "\n",
    "**You shouldn't just go through the cycle pictured above just once.**\n",
    "\n",
    "Start off by doing what seems like the *bare minimum* in order to train your classifier and make predictions that are slightly better than random. As you explore the data, make a note of ways that you can improve your model. Then, after you have made your first-pass predictions, prioritize your list of improvements based on their difficulty and estimated value. Each time you make an improvement, re-train and re-validate your model to see if your changes have truly made your classifier better. \n",
    "\n",
    "As you go through this cycle of improving your data/model and validating your improvements, your predictions will get better and better until you simply run out of time to make more improvements.  \n"
   ]
  },
  {
   "cell_type": "markdown",
   "metadata": {
    "colab_type": "text",
    "id": "h1xxJyqYn9Hz"
   },
   "source": [
    "## Business Understanding\n",
    "\n",
    "Gaining domain knowledge and a business understanding about a problem is extremely useful. It wil help you communicate your findings to stakeholders and give you insights about the data exploration process.\n",
    "\n",
    "[What is churn analysis?](https://www.datascience.com/blog/what-is-a-churn-analysis-and-why-is-it-valuable-for-business)\n",
    "\n",
    "[The importance of predicting customer churn ](https://www.optimove.com/learning-center/customer-churn-prediction-and-prevention)"
   ]
  },
  {
   "cell_type": "markdown",
   "metadata": {
    "colab_type": "text",
    "id": "0qdSrKas4Sbn"
   },
   "source": [
    "## The Data:\n",
    "\n",
    "You will have access to a randomly selected 66.66% of the data for your training dataset. This will have all of the columns **including** whether or not the customer churned. The other 33.33% will be in the test dataset **without** any information about the customer churn. You will run experiments on the training dataset, but ultimately will be required to make predictions and submissions to our private Kaggle Leaderboard using the test dataset.\n",
    "\n",
    "## [Access the data and the Kaggle leaderboard here](https://www.kaggle.com/t/148ead80810e46ae8383517a543756dd)\n",
    "\n",
    "**You are going to need to create an account on Kaggle if you don't already have one.**"
   ]
  },
  {
   "cell_type": "markdown",
   "metadata": {
    "colab": {},
    "colab_type": "code",
    "id": "mKy5LVAslzoo"
   },
   "source": [
    "### Once I:\n",
    "\n",
    "1. Set up my Kaggle Account\n",
    "\n",
    "2. downloaded and api key to my local computer ~/.kaggle/kaggle.json\n",
    "\n",
    "3. Agreed to the terms of the competition\n",
    "\n",
    "I was able to download the the files from the competition to my Anaconda environment with this command:\n",
    "\n",
    "\n",
    "!kaggle competitions download -c lambda-school-churn-challenge"
   ]
  },
  {
   "cell_type": "code",
   "execution_count": 3,
   "metadata": {
    "colab": {},
    "colab_type": "code",
    "id": "Eh8aZ4snE5fS"
   },
   "outputs": [
    {
     "name": "stdout",
     "output_type": "stream",
     "text": [
      "logistic_regression.csv        pima-indians-diabetes.data.csv\n"
     ]
    }
   ],
   "source": [
    "import pandas as pd\n",
    "import numpy as np\n",
    "import seaborn as sns\n",
    "import matplotlib.pyplot as plt\n",
    "\n",
    "!ls *csv"
   ]
  },
  {
   "cell_type": "markdown",
   "metadata": {
    "colab_type": "text",
    "id": "gr1e0vkDoAy1"
   },
   "source": [
    "## Data Understanding\n",
    "\n",
    "Do whatever exploratory data analysis you need to do in order to be educated about what's in this dataset. You're going to need some graphs at the bare minimum."
   ]
  },
  {
   "cell_type": "code",
   "execution_count": 4,
   "metadata": {},
   "outputs": [
    {
     "name": "stdout",
     "output_type": "stream",
     "text": [
      "sampleSubmission.csv test.csv             train.csv\n"
     ]
    }
   ],
   "source": [
    "!ls ~/.kaggle/competitions/lambda-school-churn-challenge/"
   ]
  },
  {
   "cell_type": "code",
   "execution_count": 5,
   "metadata": {
    "colab": {},
    "colab_type": "code",
    "id": "1V96YTQYNlIF"
   },
   "outputs": [
    {
     "name": "stdout",
     "output_type": "stream",
     "text": [
      "(1111, 2) (2222, 22) (1111, 22)\n"
     ]
    }
   ],
   "source": [
    "df_sample = pd.read_csv('~/.kaggle/competitions/lambda-school-churn-challenge/sampleSubmission.csv')\n",
    "df_train = pd.read_csv('~/.kaggle/competitions/lambda-school-churn-challenge/train.csv')\n",
    "df_test = pd.read_csv('~/.kaggle/competitions/lambda-school-churn-challenge/test.csv')\n",
    "\n",
    "print(df_sample.shape, df_train.shape, df_test.shape)"
   ]
  },
  {
   "cell_type": "code",
   "execution_count": 6,
   "metadata": {
    "colab": {},
    "colab_type": "code",
    "id": "qd2rg_3NHl-g"
   },
   "outputs": [
    {
     "data": {
      "text/html": [
       "<div>\n",
       "<style scoped>\n",
       "    .dataframe tbody tr th:only-of-type {\n",
       "        vertical-align: middle;\n",
       "    }\n",
       "\n",
       "    .dataframe tbody tr th {\n",
       "        vertical-align: top;\n",
       "    }\n",
       "\n",
       "    .dataframe thead th {\n",
       "        text-align: right;\n",
       "    }\n",
       "</style>\n",
       "<table border=\"1\" class=\"dataframe\">\n",
       "  <thead>\n",
       "    <tr style=\"text-align: right;\">\n",
       "      <th></th>\n",
       "      <th>id</th>\n",
       "      <th>churn</th>\n",
       "    </tr>\n",
       "  </thead>\n",
       "  <tbody>\n",
       "    <tr>\n",
       "      <th>0</th>\n",
       "      <td>221</td>\n",
       "      <td>1</td>\n",
       "    </tr>\n",
       "    <tr>\n",
       "      <th>1</th>\n",
       "      <td>1313</td>\n",
       "      <td>1</td>\n",
       "    </tr>\n",
       "    <tr>\n",
       "      <th>2</th>\n",
       "      <td>1635</td>\n",
       "      <td>1</td>\n",
       "    </tr>\n",
       "    <tr>\n",
       "      <th>3</th>\n",
       "      <td>289</td>\n",
       "      <td>1</td>\n",
       "    </tr>\n",
       "    <tr>\n",
       "      <th>4</th>\n",
       "      <td>2416</td>\n",
       "      <td>1</td>\n",
       "    </tr>\n",
       "  </tbody>\n",
       "</table>\n",
       "</div>"
      ],
      "text/plain": [
       "     id  churn\n",
       "0   221      1\n",
       "1  1313      1\n",
       "2  1635      1\n",
       "3   289      1\n",
       "4  2416      1"
      ]
     },
     "execution_count": 6,
     "metadata": {},
     "output_type": "execute_result"
    }
   ],
   "source": [
    "df_sample.head()"
   ]
  },
  {
   "cell_type": "code",
   "execution_count": 11,
   "metadata": {},
   "outputs": [
    {
     "data": {
      "text/plain": [
       "array([0, 1])"
      ]
     },
     "execution_count": 11,
     "metadata": {},
     "output_type": "execute_result"
    }
   ],
   "source": [
    "df_train.head()\n",
    "df_train.churn.unique()"
   ]
  },
  {
   "cell_type": "code",
   "execution_count": 12,
   "metadata": {},
   "outputs": [
    {
     "data": {
      "text/plain": [
       "array([9999])"
      ]
     },
     "execution_count": 12,
     "metadata": {},
     "output_type": "execute_result"
    }
   ],
   "source": [
    "df_test.head()\n",
    "df_test.churn.unique()"
   ]
  },
  {
   "cell_type": "code",
   "execution_count": null,
   "metadata": {},
   "outputs": [],
   "source": []
  },
  {
   "cell_type": "markdown",
   "metadata": {
    "colab_type": "text",
    "id": "sAU9YwvnoG4g"
   },
   "source": [
    "## Data Preparation\n",
    "\n",
    "You will probably go back and forth between data preparation and data understanding. Some of the data you won't be able to explore until it is cleaned, and visa versa.\n",
    "\n",
    "Real world data is messy, and this dataset is no exception. Start off by identifying the features that seem useful, and work on cleaning/preparing those columns first. Remember that you don't have to use every column of a dataset when you are fitting your model."
   ]
  },
  {
   "cell_type": "markdown",
   "metadata": {
    "colab_type": "text",
    "id": "hvzCWfRSoWXS"
   },
   "source": [
    "## Modeling\n",
    "\n",
    "We've talked a lot about Logistic Regression so far, but there are a **lot** of classification models that you could use. In this section you will get a chance to do a little bit of research about 5 important classification algorithms. \n",
    "\n",
    "The purpose of this section is to give you a very very brief introduction to a few of the most popular supervised learning classification algorithms. It is **not** the purpose of this section/assignment that you understand all of the mathematical and programmatic inner-workings of these algorithms, but rather to give you a high level overview of their usage. Please defer your curiosity and perfectionism temporarily and focus on what you need to know in order to get an out-of-the box prediction from these classifiers using the sklearn library.\n",
    "\n",
    "*   Support Vector Machine\n",
    "*   Decision Tree Classifier\n",
    "*   Random Forest Classifier\n",
    "*   Naive Bayes Classifier\n",
    "*   K-Nearest Neighbors Classifier\n",
    "\n",
    "\n",
    "Once you have successfully fit each of these models to the test dataset and calculated their out-of-the-box ROC_AUC score, pick the top two highest performing classifiers and research their hyperparameters for future hyperparameter tuning.\n",
    "\n",
    "List their hyperparameters here:\n",
    "\n",
    "### Highest performing model's hyperparameters:\n",
    "\n",
    "### Second highest performing model's hyperparameters:\n",
    "\n",
    "___\n",
    "\n",
    "Below is sample code for how to get an out-of-the-box estimate for a Logistic Regression model. You may reference it when finding the out-of-the-box predictions for the other 5 models.\n"
   ]
  },
  {
   "cell_type": "code",
   "execution_count": null,
   "metadata": {
    "colab": {},
    "colab_type": "code",
    "id": "BseZ3YN39XcE"
   },
   "outputs": [],
   "source": [
    "##### Logistic Regeression OUTB Estimate #####\n",
    "\n",
    "from sklearn.linear_model import LogisticRegression\n",
    "model = LogisticRegression()\n",
    "cross_val = KFold(n_splits=3, random_state=42)\n",
    "scores = cross_val_score(model, X, Y, cv=cross_val, scoring='roc_auc')\n",
    "print(\"Mean AUC Score - Logistic Regression: \", scores.mean())"
   ]
  },
  {
   "cell_type": "code",
   "execution_count": null,
   "metadata": {
    "colab": {},
    "colab_type": "code",
    "id": "TbWavCLsNnH7"
   },
   "outputs": [],
   "source": [
    "##### Your Code Here #####"
   ]
  },
  {
   "cell_type": "markdown",
   "metadata": {
    "colab_type": "text",
    "id": "bXppsn3Uoiy8"
   },
   "source": [
    "## Evaluation\n",
    "\n",
    "Start off by making a submission to the Kaggle leaderboard that is purely a column of all 1s or 0s as a baseline. There is a sampleSubmission.csv file that is already prepared in this format if you would like to use that.\n",
    "\n",
    "pick one of the better models from your out-of-the-box analysis and then use it to make predictions on the test dataset. Then take those predictions and make a new submission to the leaderboad. You are allowed 20 submissions to the leaderboard per day, so don't go submitting willy nilly.\n",
    "\n",
    "Try and ensure that you have truly improved your classifier before making a new submission. Use the cross-validation techniques that we have been studying to evaluate your model on the training dataset before going to the trouble of making predictions on the test dataset and having to format a new submission."
   ]
  },
  {
   "cell_type": "code",
   "execution_count": null,
   "metadata": {
    "colab": {},
    "colab_type": "code",
    "id": "1nVJvXsNlaCq"
   },
   "outputs": [],
   "source": [
    "##### Your Code Here #####"
   ]
  },
  {
   "cell_type": "markdown",
   "metadata": {
    "colab_type": "text",
    "id": "TndTe_TElERf"
   },
   "source": [
    "## Repeat\n",
    "\n",
    "The Machine Learning Framework is a cycle. Keep on looping through it and improving your classifier. Don't delete your previous work since we want to see how your thinking developed. Go back and try some hyperparameter tuning, format additional columns/features so that they are ready to be fed to the model. Keep on working down below, don't be afraid to add lots of code cells to your Colab.\n",
    "\n",
    "## Stretch Goal:\n",
    "\n",
    "Try and get the highest score that you possibly can. If you're not on the top of the leaderboard, then there must still be ways to improve your classifier that you haven't considered yet."
   ]
  },
  {
   "cell_type": "code",
   "execution_count": null,
   "metadata": {
    "colab": {},
    "colab_type": "code",
    "id": "j07kh0LZlHGM"
   },
   "outputs": [],
   "source": [
    "##### Your Code Here #####"
   ]
  }
 ],
 "metadata": {
  "colab": {
   "name": "The Machine Learning Framework",
   "provenance": [],
   "version": "0.3.2"
  },
  "kernelspec": {
   "display_name": "Python 3",
   "language": "python",
   "name": "python3"
  },
  "language_info": {
   "codemirror_mode": {
    "name": "ipython",
    "version": 3
   },
   "file_extension": ".py",
   "mimetype": "text/x-python",
   "name": "python",
   "nbconvert_exporter": "python",
   "pygments_lexer": "ipython3",
   "version": "3.6.5"
  }
 },
 "nbformat": 4,
 "nbformat_minor": 2
}
