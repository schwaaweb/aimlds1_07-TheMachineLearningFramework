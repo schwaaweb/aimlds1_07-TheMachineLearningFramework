{
 "cells": [
  {
   "cell_type": "markdown",
   "metadata": {
    "colab_type": "text",
    "id": "view-in-github"
   },
   "source": [
    "[View in Colaboratory](https://colab.research.google.com/github/schwaaweb/aimlds1_07-TheMachineLearningFramework/blob/master/T07_CC--DJ--AUC_Coding_Challenge.ipynb)"
   ]
  },
  {
   "cell_type": "markdown",
   "metadata": {
    "colab_type": "text",
    "id": "aD8Yb0P8D04e"
   },
   "source": [
    "# Area-Under-Curve Measurement\n",
    "\n",
    "Objectives:\n",
    "* Compute true positive, true negative, false positive, and false negative classification rate\n",
    "* Adjust classification threshold to control above rates\n",
    "* Plot AUC  to demonstrate accuracy\n",
    "* Calculate AUC as a single value\n",
    "\n",
    "### Background\n",
    "\n",
    "You want to be familiar with ROC and AUC.\n",
    "\n",
    "#### Receiver Operating Characteristic Curve (ROC)\n",
    "\n",
    "[wikipedia](https://en.wikipedia.org/wiki/Receiver_operating_characteristic)\n",
    "[Precision and Recall](https://en.wikipedia.org/wiki/Precision_and_recall) [sklearn](http://scikit-learn.org/stable/auto_examples/model_selection/plot_roc.html)\n",
    "\n",
    "#### Area Under Curve (AUC)\n",
    "\n",
    "[sklearn](http://scikit-learn.org/stable/modules/generated/sklearn.metrics.auc.html)\n",
    "\n",
    "The ROC curve provides a visualization of the performance of a classifier, with false-positive rates along the $x$ axis and true-positive rates along the $y$ axis. A perfect classifier produces no false positives (100% specificity) and no false negatives (100% sensitivity). In reality, classifiers are not so discerning.\n",
    "\n",
    "### Do:\n",
    "\n",
    "Correct the bugs in the following code blocks in order to work through the mechanics of building an AUC. \n",
    "\n",
    "Once you've calculated `FPR` and `TPR` for the Logistic Regression classifier on its Sprint Challenge dataset and visualized the results, modify it to compute the same data using the _test_ data, instead of the _train_ data."
   ]
  },
  {
   "cell_type": "markdown",
   "metadata": {
    "colab_type": "text",
    "id": "9JrCk2HEPwoI"
   },
   "source": [
    "### 1. Compute Linear Regression Model\n",
    "\n",
    "Create a training set and train a Logistic Regression model with it"
   ]
  },
  {
   "cell_type": "code",
   "execution_count": 11,
   "metadata": {
    "colab": {},
    "colab_type": "code",
    "id": "5UeD3N5_PwCF"
   },
   "outputs": [
    {
     "data": {
      "text/plain": [
       "(40, 4)"
      ]
     },
     "execution_count": 11,
     "metadata": {},
     "output_type": "execute_result"
    }
   ],
   "source": [
    "import numpy as np\n",
    "\n",
    "#import necessary libraries\n",
    "import pandas as pd\n",
    "from sklearn.linear_model import LogisticRegression\n",
    "from sklearn.model_selection import train_test_split\n",
    "\n",
    "#!wget -c https://www.dropbox.com/s/bnwfu81bjpf22hp/logistic_regression.csv?raw=1\n",
    "#!mv logistic_regression.csv?raw=1 logistic_regression.csv\n",
    "data = pd.read_csv('logistic_regression.csv')\n",
    "data.shape"
   ]
  },
  {
   "cell_type": "code",
   "execution_count": 22,
   "metadata": {},
   "outputs": [
    {
     "name": "stdout",
     "output_type": "stream",
     "text": [
      "          x1        x2\n",
      "4   2.756526  2.390291\n",
      "18  4.014969  1.762907\n",
      "28  3.936969  3.201201\n",
      "2   1.407508  1.485069\n",
      "5   0.802475  2.634426\n",
      "24  4.290889  1.608390\n",
      "20  5.399972  0.151869\n",
      "22  4.980625  1.060457\n",
      "3   0.332565  1.473001\n",
      "21  6.711284  2.867628\n",
      "35  6.377077  2.242637\n",
      "33  6.523576  3.743130\n",
      "26  6.935077  1.376753\n",
      "30  3.957267  3.146498\n",
      "16  2.426030  3.448318\n",
      "34  5.278695  1.611029\n",
      "29  6.611718  2.063229\n",
      "17  1.865028  1.773099\n",
      "10  0.521809  2.720305\n",
      "9   0.870838  2.936951\n",
      "8   2.106265  1.971440\n",
      "23  6.154712  3.156927\n",
      "25  6.172081  0.071042\n",
      "13  1.544444  2.618138\n",
      "1   3.838055  2.758941\n",
      "12  1.870913  1.662120\n",
      "14  1.894235  1.701873\n",
      "11  3.414063  2.479001\n",
      "19  2.572448  1.243962\n",
      "27  4.660378  0.370054\n",
      "          x1        x2\n",
      "31  4.499685  2.077359\n",
      "6   1.215009  1.293564\n",
      "38  5.397854  0.386743\n",
      "7   1.627775  2.198055\n",
      "0   2.903104  3.281307\n",
      "15  1.969762  1.961860\n",
      "36  5.811922  3.532272\n",
      "37  6.789499  0.797753\n",
      "39  5.647961  3.491709\n",
      "32  6.359798  1.037724\n",
      "4     0.0\n",
      "18    0.0\n",
      "28    1.0\n",
      "2     0.0\n",
      "5     0.0\n",
      "24    1.0\n",
      "20    1.0\n",
      "22    1.0\n",
      "3     0.0\n",
      "21    1.0\n",
      "35    1.0\n",
      "33    1.0\n",
      "26    1.0\n",
      "30    1.0\n",
      "16    0.0\n",
      "34    1.0\n",
      "29    1.0\n",
      "17    0.0\n",
      "10    0.0\n",
      "9     0.0\n",
      "8     0.0\n",
      "23    1.0\n",
      "25    1.0\n",
      "13    0.0\n",
      "1     0.0\n",
      "12    0.0\n",
      "14    0.0\n",
      "11    0.0\n",
      "19    0.0\n",
      "27    1.0\n",
      "Name: y, dtype: float64\n",
      "31    1.0\n",
      "6     0.0\n",
      "38    1.0\n",
      "7     0.0\n",
      "0     0.0\n",
      "15    0.0\n",
      "36    1.0\n",
      "37    1.0\n",
      "39    1.0\n",
      "32    1.0\n",
      "Name: y, dtype: float64\n"
     ]
    },
    {
     "data": {
      "text/plain": [
       "LogisticRegression(C=1.0, class_weight=None, dual=False, fit_intercept=True,\n",
       "          intercept_scaling=1, max_iter=100, multi_class='ovr', n_jobs=1,\n",
       "          penalty='l2', random_state=None, solver='liblinear', tol=0.0001,\n",
       "          verbose=0, warm_start=False)"
      ]
     },
     "execution_count": 22,
     "metadata": {},
     "output_type": "execute_result"
    }
   ],
   "source": [
    "# Use train_test_split to create a training set\n",
    "train_x, test_x, train_y, test_y = train_test_split(data[['x1','x2']],data['y'])\n",
    "\n",
    "print(train_x)\n",
    "print(test_x)\n",
    "print(train_y)\n",
    "print(test_y)\n",
    "\n",
    "# Create and train(fit) the model\n",
    "regr = LogisticRegression()\n",
    "regr.fit(train_x, train_y)"
   ]
  },
  {
   "cell_type": "markdown",
   "metadata": {
    "colab_type": "text",
    "id": "jSfpHHfJFPc5"
   },
   "source": [
    "### 2. Predict values for $\\hat{y}$ for the test set"
   ]
  },
  {
   "cell_type": "code",
   "execution_count": 32,
   "metadata": {
    "colab": {},
    "colab_type": "code",
    "id": "x3K306_pFUQc"
   },
   "outputs": [
    {
     "name": "stdout",
     "output_type": "stream",
     "text": [
      "y_hat\n",
      "[1. 0. 1. 0. 0. 0. 1. 1. 1. 1.]\n",
      "\n",
      "test_y\n",
      "31    1.0\n",
      "6     0.0\n",
      "38    1.0\n",
      "7     0.0\n",
      "0     0.0\n",
      "15    0.0\n",
      "36    1.0\n",
      "37    1.0\n",
      "39    1.0\n",
      "32    1.0\n",
      "Name: y, dtype: float64\n"
     ]
    }
   ],
   "source": [
    "# Predict y_hat for the test set created previously\n",
    "\n",
    "y_hat = regr.predict(test_x)\n",
    "print('y_hat')\n",
    "print(y_hat)\n",
    "print('\\ntest_y')\n",
    "print(test_y)"
   ]
  },
  {
   "cell_type": "markdown",
   "metadata": {
    "colab_type": "text",
    "id": "xS6VlmpYTzPx"
   },
   "source": [
    "### Observe precision"
   ]
  },
  {
   "cell_type": "code",
   "execution_count": 33,
   "metadata": {
    "colab": {},
    "colab_type": "code",
    "id": "Fv_8vZvrT44v"
   },
   "outputs": [
    {
     "name": "stdout",
     "output_type": "stream",
     "text": [
      "31     True\n",
      "6     False\n",
      "38     True\n",
      "7     False\n",
      "0     False\n",
      "15    False\n",
      "36     True\n",
      "37     True\n",
      "39     True\n",
      "32     True\n",
      "Name: y, dtype: bool\n",
      "31    False\n",
      "6     False\n",
      "38    False\n",
      "7     False\n",
      "0     False\n",
      "15    False\n",
      "36    False\n",
      "37    False\n",
      "39    False\n",
      "32    False\n",
      "Name: y, dtype: bool\n"
     ]
    }
   ],
   "source": [
    "# True positive: if the prediction is 1, and the original data is 1, their sum is 2\n",
    "true_positives = (y_hat+test_y)==2\n",
    "# False positive: if the prediction is 1, but the original data is 0, their sum is 1\n",
    "false_positives = (y_hat-test_y)==1\n",
    "print(true_positives.T)\n",
    "print(false_positives.T)\n"
   ]
  },
  {
   "cell_type": "code",
   "execution_count": 34,
   "metadata": {
    "colab": {},
    "colab_type": "code",
    "id": "Yybc_0TTTo6s"
   },
   "outputs": [
    {
     "name": "stdout",
     "output_type": "stream",
     "text": [
      "[[0.72931368 0.27068632]\n",
      " [0.30416808 0.69583192]\n",
      " [0.65129209 0.34870791]\n",
      " [0.80697337 0.19302663]\n",
      " [0.9575598  0.0424402 ]\n",
      " [0.22399848 0.77600152]\n",
      " [0.02388639 0.97611361]\n",
      " [0.0805686  0.9194314 ]\n",
      " [0.92124779 0.07875221]\n",
      " [0.08470851 0.91529149]\n",
      " [0.0656955  0.9343045 ]\n",
      " [0.20419304 0.79580696]\n",
      " [0.0175718  0.9824282 ]\n",
      " [0.63476482 0.36523518]\n",
      " [0.9108297  0.0891703 ]\n",
      " [0.10009632 0.89990368]\n",
      " [0.04506108 0.95493892]\n",
      " [0.7795943  0.2204057 ]\n",
      " [0.96982707 0.03017293]\n",
      " [0.9657659  0.0342341 ]\n",
      " [0.77200153 0.22799847]\n",
      " [0.17302171 0.82697829]\n",
      " [0.01061289 0.98938711]\n",
      " [0.91548293 0.08451707]\n",
      " [0.5737417  0.4262583 ]\n",
      " [0.7597623  0.2402377 ]\n",
      " [0.76257582 0.23742418]\n",
      " [0.60815951 0.39184049]\n",
      " [0.51800413 0.48199587]\n",
      " [0.05811181 0.94188819]]\n",
      "[-0.99114329  0.82752768 -0.6247236  -1.43046252 -3.11629215  1.24251524\n",
      "  3.71027012  2.43464647 -2.4594227   2.38002653  2.65477196  1.36029085\n",
      "  4.02373173 -0.5527131  -2.32380797  2.19615477  3.05362853 -1.26330372\n",
      " -3.47017274 -3.33969915 -1.21964762  1.5643614   4.53501619 -2.38249825\n",
      " -0.29713378 -1.15137679 -1.16685359 -0.43958237 -0.07204768  2.78551758]\n"
     ]
    }
   ],
   "source": [
    "# The probabilities computed by Logistic Regression:\n",
    "# The columns correspond with class 0 or 1\n",
    "proba = regr.predict_proba(train_x)\n",
    "print(proba)\n",
    "\n",
    "# The decision function computed by Logistic Regression - this is simply\n",
    "# \\sum w_i x_i + b, before the logit function has been applied\n",
    "dec = regr.decision_function(train_x)\n",
    "print(dec)"
   ]
  },
  {
   "cell_type": "markdown",
   "metadata": {},
   "source": [
    "$$ \\sum w_i x_i + b $$"
   ]
  },
  {
   "cell_type": "markdown",
   "metadata": {
    "colab_type": "text",
    "id": "PYmuA8VwJ4_y"
   },
   "source": [
    "### 2.1 Build ROC curves"
   ]
  },
  {
   "cell_type": "code",
   "execution_count": 35,
   "metadata": {
    "colab": {},
    "colab_type": "code",
    "id": "Jcyi6Z16OGuM"
   },
   "outputs": [
    {
     "name": "stdout",
     "output_type": "stream",
     "text": [
      "    0.0  0.1  0.2  0.3  0.4  0.5  0.6  0.7  0.8  0.9  1.0\n",
      "0     1    1    1    0    0    0    0    0    0    0    0\n",
      "1     1    1    1    1    1    1    1    0    0    0    0\n",
      "2     1    1    1    1    0    0    0    0    0    0    0\n",
      "3     1    1    0    0    0    0    0    0    0    0    0\n",
      "4     1    0    0    0    0    0    0    0    0    0    0\n",
      "5     1    1    1    1    1    1    1    1    0    0    0\n",
      "6     1    1    1    1    1    1    1    1    1    1    0\n",
      "7     1    1    1    1    1    1    1    1    1    1    0\n",
      "8     1    0    0    0    0    0    0    0    0    0    0\n",
      "9     1    1    1    1    1    1    1    1    1    1    0\n",
      "10    1    1    1    1    1    1    1    1    1    1    0\n",
      "11    1    1    1    1    1    1    1    1    0    0    0\n",
      "12    1    1    1    1    1    1    1    1    1    1    0\n",
      "13    1    1    1    1    0    0    0    0    0    0    0\n",
      "14    1    0    0    0    0    0    0    0    0    0    0\n",
      "15    1    1    1    1    1    1    1    1    1    0    0\n",
      "16    1    1    1    1    1    1    1    1    1    1    0\n",
      "17    1    1    1    0    0    0    0    0    0    0    0\n",
      "18    1    0    0    0    0    0    0    0    0    0    0\n",
      "19    1    0    0    0    0    0    0    0    0    0    0\n",
      "20    1    1    1    0    0    0    0    0    0    0    0\n",
      "21    1    1    1    1    1    1    1    1    1    0    0\n",
      "22    1    1    1    1    1    1    1    1    1    1    0\n",
      "23    1    0    0    0    0    0    0    0    0    0    0\n",
      "24    1    1    1    1    1    0    0    0    0    0    0\n",
      "25    1    1    1    0    0    0    0    0    0    0    0\n",
      "26    1    1    1    0    0    0    0    0    0    0    0\n",
      "27    1    1    1    1    0    0    0    0    0    0    0\n",
      "28    1    1    1    1    1    0    0    0    0    0    0\n",
      "29    1    1    1    1    1    1    1    1    1    1    0\n"
     ]
    }
   ],
   "source": [
    "thresholds = np.linspace(0.0,1.0,11)\n",
    "predictions = pd.DataFrame()\n",
    "\n",
    "for decision_threshold in thresholds:\n",
    "    decision_threshold = np.round(decision_threshold,2)\n",
    "    true_false_array = (proba[::,1:2:] > decision_threshold).T[0]\n",
    "    predictions[str(decision_threshold)] = true_false_array.astype(int)\n",
    "        \n",
    "print(predictions)"
   ]
  },
  {
   "cell_type": "markdown",
   "metadata": {
    "colab_type": "text",
    "id": "nDEdBrtYFjEr"
   },
   "source": [
    "### 3. Calculate TP and FP at each discrimination level"
   ]
  },
  {
   "cell_type": "code",
   "execution_count": 37,
   "metadata": {
    "colab": {},
    "colab_type": "code",
    "id": "B73O-XcrF9Wd"
   },
   "outputs": [
    {
     "name": "stdout",
     "output_type": "stream",
     "text": [
      "False positive rate at threshold 0.1:  0.0\n",
      "True positive rate at threshold 0.1:  1.0\n",
      "          0\n",
      "0.0  1.0000\n",
      "0.1  0.6250\n",
      "0.2  0.5625\n",
      "0.3  0.2500\n",
      "0.4  0.1875\n",
      "0.5  0.0625\n",
      "0.6  0.0625\n",
      "0.7  0.0000\n",
      "0.8  0.0000\n",
      "0.9  0.0000\n",
      "1.0  0.0000\n",
      "            0\n",
      "0.0  1.000000\n",
      "0.1  1.000000\n",
      "0.2  1.000000\n",
      "0.3  1.000000\n",
      "0.4  0.857143\n",
      "0.5  0.857143\n",
      "0.6  0.857143\n",
      "0.7  0.857143\n",
      "0.8  0.714286\n",
      "0.9  0.571429\n",
      "1.0  0.000000\n"
     ]
    },
    {
     "data": {
      "text/plain": [
       "Text(0.5,1,'Receiver operating characteristic example')"
      ]
     },
     "execution_count": 37,
     "metadata": {},
     "output_type": "execute_result"
    }
   ],
   "source": [
    "# Base case:\n",
    "false_positives = np.sum(predictions['0.1']-train_y.values>1)\n",
    "true_positives = np.sum(predictions['0.1']+train_y.values==2)\n",
    "print('False positive rate at threshold 0.1: ',false_positives/np.sum(train_y==0))\n",
    "print('True positive rate at threshold 0.1: ',true_positives/np.sum(train_y==1))\n",
    "\n",
    "# Now automate the base case across the set of all decision thresholds\n",
    "fp = pd.DataFrame()\n",
    "tp = pd.DataFrame()\n",
    "for threshold in predictions.columns:\n",
    "    fp[threshold] = [np.sum(predictions[threshold]-train_y.values==1)/np.sum(train_y==0)]\n",
    "    tp[threshold] = [np.sum(predictions[threshold]+train_y.values==2)/np.sum(train_y==1)]\n",
    "\n",
    "# The false positives and true positive rated, based on the sliding decision threshold\n",
    "print(fp.T)\n",
    "print(tp.T)\n",
    "\n",
    "import matplotlib.pyplot as plt\n",
    "plt.plot(fp.T,tp.T);\n",
    "plt.plot([0, 1], [0, 1], 'k--', lw=2)\n",
    "plt.xlabel('False Positive Rate')\n",
    "plt.ylabel('True Positive Rate')\n",
    "plt.title('Receiver operating characteristic example')\n",
    "    "
   ]
  },
  {
   "cell_type": "markdown",
   "metadata": {
    "colab_type": "text",
    "id": "Jhg7EM4YQ6nG"
   },
   "source": [
    "### 4. Example using sklearn"
   ]
  },
  {
   "cell_type": "code",
   "execution_count": 38,
   "metadata": {
    "colab": {},
    "colab_type": "code",
    "id": "t2xGVuYcQfAo"
   },
   "outputs": [],
   "source": [
    "from sklearn import metrics"
   ]
  },
  {
   "cell_type": "code",
   "execution_count": 39,
   "metadata": {
    "colab": {},
    "colab_type": "code",
    "id": "O1_hD-raG2s2"
   },
   "outputs": [
    {
     "name": "stdout",
     "output_type": "stream",
     "text": [
      "0.96875\n",
      "0.9642857142857143\n",
      "[0.   0.   0.25 0.25 1.  ]\n",
      "[0.07142857 0.85714286 0.85714286 1.         1.        ]\n"
     ]
    },
    {
     "data": {
      "image/png": "[encoded data removed]",
      "text/plain": [
       "<matplotlib.figure.Figure at 0x1a0ec3cf28>"
      ]
     },
     "metadata": {},
     "output_type": "display_data"
    }
   ],
   "source": [
    "# The Area-Under-The-Curve Score\n",
    "print(metrics.auc(fp.T,tp.T))\n",
    "print(metrics.roc_auc_score(train_y.values,proba[::,1:2:]))\n",
    "\n",
    "# Producing the same false/true positive data via a library and plotting it\n",
    "fpr, tpr, _ = metrics.roc_curve(train_y.values,proba[::,1:2:])\n",
    "print(fpr)\n",
    "print(tpr)\n",
    "plt.plot(fpr,tpr);"
   ]
  },
  {
   "cell_type": "markdown",
   "metadata": {
    "colab_type": "text",
    "id": "QS0KgX-_QbX6"
   },
   "source": [
    "## Do\n",
    "\n",
    "### 5. Compute the ROC and AUC using the _testset_ instead of the _trainset_\n"
   ]
  },
  {
   "cell_type": "code",
   "execution_count": 41,
   "metadata": {
    "colab": {},
    "colab_type": "code",
    "id": "CVtzXgERHI4B"
   },
   "outputs": [
    {
     "name": "stdout",
     "output_type": "stream",
     "text": [
      "[[0.26978349 0.73021651]\n",
      " [0.8074439  0.1925561 ]\n",
      " [0.02978837 0.97021163]\n",
      " [0.86986086 0.13013914]\n",
      " [0.84581546 0.15418454]\n",
      " [0.79291856 0.20708144]\n",
      " [0.29457489 0.70542511]\n",
      " [0.01169254 0.98830746]\n",
      " [0.32008395 0.67991605]\n",
      " [0.02206604 0.97793396]]\n",
      "[ 0.99572135 -1.43348603  3.48339621 -1.89972911 -1.70215104 -1.34260836\n",
      "  0.87326735  4.43704253  0.75338602  3.79140234]\n"
     ]
    }
   ],
   "source": [
    "# Compute and plot\n",
    "\n",
    "# The probabilities computed by Logistic Regression:\n",
    "# The columns correspond with class 0 or 1\n",
    "proba = regr.predict_proba(test_x)\n",
    "print(proba)\n",
    "\n",
    "# The decision function computed by Logistic Regression - this is simply\n",
    "# \\sum w_i x_i + b, before the logit function has been applied\n",
    "dec = regr.decision_function(test_x)\n",
    "print(dec)"
   ]
  },
  {
   "cell_type": "code",
   "execution_count": 42,
   "metadata": {},
   "outputs": [
    {
     "name": "stdout",
     "output_type": "stream",
     "text": [
      "   0.0  0.1  0.2  0.3  0.4  0.5  0.6  0.7  0.8  0.9  1.0\n",
      "0    1    1    1    1    1    1    1    1    0    0    0\n",
      "1    1    1    0    0    0    0    0    0    0    0    0\n",
      "2    1    1    1    1    1    1    1    1    1    1    0\n",
      "3    1    1    0    0    0    0    0    0    0    0    0\n",
      "4    1    1    0    0    0    0    0    0    0    0    0\n",
      "5    1    1    1    0    0    0    0    0    0    0    0\n",
      "6    1    1    1    1    1    1    1    1    0    0    0\n",
      "7    1    1    1    1    1    1    1    1    1    1    0\n",
      "8    1    1    1    1    1    1    1    0    0    0    0\n",
      "9    1    1    1    1    1    1    1    1    1    1    0\n"
     ]
    }
   ],
   "source": [
    "thresholds = np.linspace(0.0,1.0,11)\n",
    "predictions = pd.DataFrame()\n",
    "\n",
    "for decision_threshold in thresholds:\n",
    "    decision_threshold = np.round(decision_threshold,2)\n",
    "    true_false_array = (proba[::,1:2:] > decision_threshold).T[0]\n",
    "    predictions[str(decision_threshold)] = true_false_array.astype(int)\n",
    "        \n",
    "print(predictions)"
   ]
  },
  {
   "cell_type": "code",
   "execution_count": 43,
   "metadata": {},
   "outputs": [
    {
     "name": "stdout",
     "output_type": "stream",
     "text": [
      "False positive rate at threshold 0.1:  0.0\n",
      "True positive rate at threshold 0.1:  1.0\n",
      "        0\n",
      "0.0  1.00\n",
      "0.1  1.00\n",
      "0.2  0.25\n",
      "0.3  0.00\n",
      "0.4  0.00\n",
      "0.5  0.00\n",
      "0.6  0.00\n",
      "0.7  0.00\n",
      "0.8  0.00\n",
      "0.9  0.00\n",
      "1.0  0.00\n",
      "            0\n",
      "0.0  1.000000\n",
      "0.1  1.000000\n",
      "0.2  1.000000\n",
      "0.3  1.000000\n",
      "0.4  1.000000\n",
      "0.5  1.000000\n",
      "0.6  1.000000\n",
      "0.7  0.833333\n",
      "0.8  0.500000\n",
      "0.9  0.500000\n",
      "1.0  0.000000\n"
     ]
    },
    {
     "data": {
      "text/plain": [
       "Text(0.5,1,'Receiver operating characteristic example')"
      ]
     },
     "execution_count": 43,
     "metadata": {},
     "output_type": "execute_result"
    },
    {
     "data": {
      "image/png": "[encoded data removed]",
      "text/plain": [
       "<matplotlib.figure.Figure at 0x1a11982d68>"
      ]
     },
     "metadata": {},
     "output_type": "display_data"
    }
   ],
   "source": [
    "false_positives = np.sum(predictions['0.1']-test_y.values>1)\n",
    "true_positives = np.sum(predictions['0.1']+test_y.values==2)\n",
    "print('False positive rate at threshold 0.1: ',false_positives/np.sum(test_y==0))\n",
    "print('True positive rate at threshold 0.1: ',true_positives/np.sum(test_y==1))\n",
    "\n",
    "# Now automate the base case across the set of all decision thresholds\n",
    "fp = pd.DataFrame()\n",
    "tp = pd.DataFrame()\n",
    "for threshold in predictions.columns:\n",
    "    fp[threshold] = [np.sum(predictions[threshold]-test_y.values==1)/np.sum(test_y==0)]\n",
    "    tp[threshold] = [np.sum(predictions[threshold]+test_y.values==2)/np.sum(test_y==1)]\n",
    "\n",
    "# The false positives and true positive rated, based on the sliding decision threshold\n",
    "print(fp.T)\n",
    "print(tp.T)\n",
    "\n",
    "import matplotlib.pyplot as plt\n",
    "plt.plot(fp.T,tp.T);\n",
    "plt.plot([0, 1], [0, 1], 'k--', lw=2)\n",
    "plt.xlabel('False Positive Rate')\n",
    "plt.ylabel('True Positive Rate')\n",
    "plt.title('Receiver operating characteristic example')\n",
    "    "
   ]
  },
  {
   "cell_type": "code",
   "execution_count": null,
   "metadata": {},
   "outputs": [],
   "source": []
  }
 ],
 "metadata": {
  "colab": {
   "collapsed_sections": [],
   "name": "AUC Coding Challenge.ipynb",
   "provenance": [],
   "version": "0.3.2"
  },
  "kernelspec": {
   "display_name": "Python 3",
   "language": "python",
   "name": "python3"
  },
  "language_info": {
   "codemirror_mode": {
    "name": "ipython",
    "version": 3
   },
   "file_extension": ".py",
   "mimetype": "text/x-python",
   "name": "python",
   "nbconvert_exporter": "python",
   "pygments_lexer": "ipython3",
   "version": "3.6.4"
  }
 },
 "nbformat": 4,
 "nbformat_minor": 2
}
